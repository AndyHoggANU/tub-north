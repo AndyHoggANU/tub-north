{
 "cells": [
  {
   "cell_type": "markdown",
   "metadata": {},
   "source": [
    "# Processing `tub-north` simulations\n",
    "\n",
    "This notebook contains routines to process and reduce data for the `tub-north` simulations. \n",
    "\n",
    "For analysis and plots showing this data, see `RuntimeAnalysis.ipynb`."
   ]
  },
  {
   "cell_type": "code",
   "execution_count": 2,
   "metadata": {},
   "outputs": [],
   "source": [
    "%matplotlib inline\n",
    "\n",
    "import cosima_cookbook as cc\n",
    "import matplotlib.pyplot as plt\n",
    "import numpy as np\n",
    "import netCDF4 as nc\n",
    "import xarray as xr\n",
    "import cmocean as cm\n",
    "from collections import OrderedDict\n",
    "import cftime\n",
    "import glob\n",
    "\n",
    "import logging\n",
    "logging.captureWarnings(True)\n",
    "logging.getLogger('py.warnings').setLevel(logging.ERROR)\n",
    "\n",
    "from dask.distributed import Client"
   ]
  },
  {
   "cell_type": "code",
   "execution_count": 3,
   "metadata": {},
   "outputs": [],
   "source": [
    "client = Client(n_workers=4)\n",
    "# >> dask-scheduler\n",
    "# >> dask-worker tcp://10.0.64.20:8786 --memory-limit 4e9 --nprocs 6 --nthreads 1 --local-directory /local/g40/amh157\n",
    "#client = Client('tcp://10.0.64.20:8786', local_dir='/local/g40/amh157')\n",
    "client"
   ]
  },
  {
   "cell_type": "code",
   "execution_count": 4,
   "metadata": {},
   "outputs": [],
   "source": [
    "db='tub-north.db'\n",
    "exptdict = OrderedDict([\n",
    "    ('tx01-fc00',   {'expt':'tub-north-tx01-fc00','start_time':'1100-01-01'}),\n",
    "    ('tx01-fc005',   {'expt':'tub-north-tx01-fc005','start_time':'1100-01-01'}),\n",
    "    ('tx01-fc01',   {'expt':'tub-north-tx01-fc01','start_time':'1100-01-01'}),\n",
    "    ('tx01-fc03',   {'expt':'tub-north-tx01-fc03','start_time':'1100-01-01'}),\n",
    "    ('tx00-fc02',   {'expt':'tub-north-tx00-fc02','start_time':'1100-01-01'}),\n",
    "    ('tx00-fc02-pert',   {'expt':'tub-north-tx00-fc02-pert','start_time':'1100-01-01'}),\n",
    "    ('tx005-fc02',   {'expt':'tub-north-tx005-fc02','start_time':'1100-01-01'}),\n",
    "    ('tx01-fc02',   {'expt':'tub-north-tx01-fc02','start_time':'1100-01-01'}),\n",
    "    ('tx02-fc02',   {'expt':'tub-north-tx02-fc02','start_time':'1100-01-01'}),\n",
    "    ('GM',   {'expt':'tub-north-GM-1deg','start_time':'1100-01-01'}),\n",
    "    ('GM-tx00',   {'expt':'tub-north-GM-1deg-tx00','start_time':'1100-01-01'})\n",
    "])\n",
    "GMkeys = ['GM','GM-tx00']\n",
    "processed = '/g/data/v45/amh157/tub-north-processed/data/'"
   ]
  },
  {
   "cell_type": "markdown",
   "metadata": {},
   "source": [
    "## Database\n",
    "Update the database here."
   ]
  },
  {
   "cell_type": "code",
   "execution_count": 5,
   "metadata": {},
   "outputs": [],
   "source": [
    "session = cc.database.create_session(db)"
   ]
  },
  {
   "cell_type": "code",
   "execution_count": 10,
   "metadata": {},
   "outputs": [
    {
     "name": "stdout",
     "output_type": "stream",
     "text": [
      "Indexing experiment: tub-north-tx01-fc03\n"
     ]
    },
    {
     "name": "stderr",
     "output_type": "stream",
     "text": [
      "100%|██████████| 333/333 [01:14<00:00,  4.45it/s]\n"
     ]
    },
    {
     "name": "stdout",
     "output_type": "stream",
     "text": [
      "Indexing experiment: tub-north-tx01-fc02\n"
     ]
    },
    {
     "name": "stderr",
     "output_type": "stream",
     "text": [
      "100%|██████████| 1800/1800 [08:33<00:00,  3.50it/s]\n",
      "100%|██████████| 5/5 [00:00<00:00, 38.95it/s]"
     ]
    },
    {
     "name": "stdout",
     "output_type": "stream",
     "text": [
      "Indexing experiment: tide_test_v4\n"
     ]
    },
    {
     "name": "stderr",
     "output_type": "stream",
     "text": [
      "\n"
     ]
    },
    {
     "name": "stdout",
     "output_type": "stream",
     "text": [
      "Indexing experiment: tub-north-GM-1deg\n"
     ]
    },
    {
     "name": "stderr",
     "output_type": "stream",
     "text": [
      "100%|██████████| 1974/1974 [07:41<00:00,  4.28it/s]\n",
      "100%|██████████| 5/5 [00:00<00:00, 72.38it/s]"
     ]
    },
    {
     "name": "stdout",
     "output_type": "stream",
     "text": [
      "Indexing experiment: tide_test_v3\n"
     ]
    },
    {
     "name": "stderr",
     "output_type": "stream",
     "text": [
      "\n"
     ]
    },
    {
     "name": "stdout",
     "output_type": "stream",
     "text": [
      "Indexing experiment: tub-north-tx00-fc02\n"
     ]
    },
    {
     "name": "stderr",
     "output_type": "stream",
     "text": [
      "100%|██████████| 1974/1974 [09:20<00:00,  3.52it/s]\n"
     ]
    },
    {
     "name": "stdout",
     "output_type": "stream",
     "text": [
      "Indexing experiment: tub-north-tx02-fc02\n"
     ]
    },
    {
     "name": "stderr",
     "output_type": "stream",
     "text": [
      "100%|██████████| 333/333 [01:45<00:00,  3.15it/s]\n"
     ]
    },
    {
     "name": "stdout",
     "output_type": "stream",
     "text": [
      "Indexing experiment: tub-north-tx01-fc005\n"
     ]
    },
    {
     "name": "stderr",
     "output_type": "stream",
     "text": [
      "100%|██████████| 333/333 [01:25<00:00,  3.90it/s]\n"
     ]
    },
    {
     "name": "stdout",
     "output_type": "stream",
     "text": [
      "Indexing experiment: tub-north-tx00-fc05\n"
     ]
    },
    {
     "name": "stderr",
     "output_type": "stream",
     "text": [
      "100%|██████████| 365/365 [00:16<00:00, 21.68it/s]\n"
     ]
    },
    {
     "name": "stdout",
     "output_type": "stream",
     "text": [
      "Indexing experiment: tub-north-tx01-fc00\n"
     ]
    },
    {
     "name": "stderr",
     "output_type": "stream",
     "text": [
      "100%|██████████| 333/333 [01:30<00:00,  3.67it/s]\n",
      "100%|██████████| 5/5 [00:00<00:00, 67.85it/s]"
     ]
    },
    {
     "name": "stdout",
     "output_type": "stream",
     "text": [
      "Indexing experiment: tide_test_v2\n"
     ]
    },
    {
     "name": "stderr",
     "output_type": "stream",
     "text": [
      "\n"
     ]
    },
    {
     "name": "stdout",
     "output_type": "stream",
     "text": [
      "Indexing experiment: tub-north-ref\n"
     ]
    },
    {
     "name": "stderr",
     "output_type": "stream",
     "text": [
      "100%|██████████| 545/545 [00:17<00:00, 31.23it/s]\n"
     ]
    },
    {
     "name": "stdout",
     "output_type": "stream",
     "text": [
      "Indexing experiment: tub-north-tx01-fc01\n"
     ]
    },
    {
     "name": "stderr",
     "output_type": "stream",
     "text": [
      "100%|██████████| 333/333 [01:15<00:00,  4.43it/s]\n",
      "100%|██████████| 5/5 [00:00<00:00, 82.92it/s]"
     ]
    },
    {
     "name": "stdout",
     "output_type": "stream",
     "text": [
      "Indexing experiment: tide_test\n"
     ]
    },
    {
     "name": "stderr",
     "output_type": "stream",
     "text": [
      "\n"
     ]
    },
    {
     "name": "stdout",
     "output_type": "stream",
     "text": [
      "Indexing experiment: tub-north-tx00-fc02-pert\n"
     ]
    },
    {
     "name": "stderr",
     "output_type": "stream",
     "text": [
      "100%|██████████| 333/333 [01:35<00:00,  3.50it/s]\n"
     ]
    },
    {
     "name": "stdout",
     "output_type": "stream",
     "text": [
      "Indexing experiment: tub-north-tx005-fc02\n"
     ]
    },
    {
     "name": "stderr",
     "output_type": "stream",
     "text": [
      "100%|██████████| 333/333 [01:44<00:00,  3.18it/s]\n"
     ]
    },
    {
     "name": "stdout",
     "output_type": "stream",
     "text": [
      "Indexing experiment: tub-north-GM-1deg-tx00\n"
     ]
    },
    {
     "name": "stderr",
     "output_type": "stream",
     "text": [
      "100%|██████████| 1974/1974 [07:40<00:00,  4.28it/s]\n"
     ]
    },
    {
     "data": {
      "text/plain": [
       "10983"
      ]
     },
     "execution_count": 10,
     "metadata": {},
     "output_type": "execute_result"
    }
   ],
   "source": [
    "cc.database.build_index(glob.glob('/g/data/v45/amh157/mom6/archive/*'),session,update=True)"
   ]
  },
  {
   "cell_type": "markdown",
   "metadata": {},
   "source": [
    "## Experiments and Start Time\n",
    "We have 3 experiments so far. Starting diagnostics from year `start_time`."
   ]
  },
  {
   "cell_type": "code",
   "execution_count": 11,
   "metadata": {},
   "outputs": [
    {
     "name": "stdout",
     "output_type": "stream",
     "text": [
      "tub-north-tx01-fc00 : - Goes from year  1006.0  to year  1206.0\n",
      "          - start_time =  1100-01-01\n",
      "  \n",
      "tub-north-tx01-fc005 : - Goes from year  1006.0  to year  1206.0\n",
      "          - start_time =  1100-01-01\n",
      "  \n",
      "tub-north-tx01-fc01 : - Goes from year  1006.0  to year  1206.0\n",
      "          - start_time =  1100-01-01\n",
      "  \n",
      "tub-north-tx01-fc03 : - Goes from year  1006.0  to year  1206.0\n",
      "          - start_time =  1100-01-01\n",
      "  \n",
      "tub-north-tx00-fc02 : - Goes from year  5.0  to year  1206.0\n",
      "          - start_time =  1100-01-01\n",
      "  \n",
      "tub-north-tx00-fc02-pert : - Goes from year  1006.0  to year  1206.0\n",
      "          - start_time =  1100-01-01\n",
      "  \n",
      "tub-north-tx005-fc02 : - Goes from year  1006.0  to year  1206.0\n",
      "          - start_time =  1100-01-01\n",
      "  \n",
      "tub-north-tx01-fc02 : - Goes from year  110.0  to year  1206.0\n",
      "          - start_time =  1100-01-01\n",
      "  \n",
      "tub-north-tx02-fc02 : - Goes from year  1006.0  to year  1206.0\n",
      "          - start_time =  1100-01-01\n",
      "  \n",
      "tub-north-GM-1deg : - Goes from year  0.0  to year  1201.0\n",
      "          - start_time =  1100-01-01\n",
      "  \n",
      "tub-north-GM-1deg-tx00 : - Goes from year  0.0  to year  1201.0\n",
      "          - start_time =  1100-01-01\n",
      "  \n"
     ]
    }
   ],
   "source": [
    "for ekey in exptdict.keys():\n",
    "    expt = exptdict[ekey]['expt']\n",
    "    start_time = exptdict[ekey]['start_time']\n",
    "    darray = cc.querying.getvar(expt, 'taux', session).Time\n",
    "    start_year = cftime.date2num(darray[0],units='days since 0001-01-01',calendar='julian')/365\n",
    "    end_year = cftime.date2num(darray[-1],units='days since 0001-01-01',calendar='julian')/365\n",
    "    print(expt,': - Goes from year ',start_year.round(),' to year ', end_year.round())\n",
    "    print('          - start_time = ',start_time)\n",
    "    print('  ')"
   ]
  },
  {
   "cell_type": "markdown",
   "metadata": {},
   "source": [
    "## Spinup Diagnostics\n",
    "The aim for these runs is to get heat and age stable, and then to branch off perturbations."
   ]
  },
  {
   "cell_type": "code",
   "execution_count": 12,
   "metadata": {},
   "outputs": [
    {
     "data": {
      "text/plain": [
       "Text(0.5, 0, 'Time (years)')"
      ]
     },
     "execution_count": 12,
     "metadata": {},
     "output_type": "execute_result"
    },
    {
     "data": {
      "image/png": "[encoded data removed]",
      "text/plain": [
       "<Figure size 864x648 with 4 Axes>"
      ]
     },
     "metadata": {
      "needs_background": "light"
     },
     "output_type": "display_data"
    }
   ],
   "source": [
    "## Spinups\n",
    "fig, ax = plt.subplots(2,2,figsize=(12,9))\n",
    "\n",
    "for ekey in exptdict.keys():#['tx01-fc02', 'tx00-fc02','GM','GM-tx00']:\n",
    "    expt = exptdict[ekey]['expt']\n",
    "    darray = xr.open_mfdataset('/g/data/v45/amh157/mom6/archive/'+expt+'/output*/ocean.stats.nc',decode_times=False).Heat\n",
    "    darray.coords['Time'] = darray.coords['Time']/365\n",
    "    darray.plot(ax=ax[0,0], label=expt)\n",
    "\n",
    "    darray = xr.open_mfdataset('/g/data/v45/amh157/mom6/archive/'+expt+'/output*/ocean.stats.nc',decode_times=False).age\n",
    "    darray.coords['Time'] = darray.coords['Time']/365\n",
    "    darray.plot(ax=ax[0,1],label=expt)\n",
    "    \n",
    "    darray = xr.open_mfdataset('/g/data/v45/amh157/mom6/archive/'+expt+'/output*/ocean.stats.nc',decode_times=False).KE\n",
    "    darray.coords['Time'] = darray.coords['Time']/365\n",
    "    darray.sum('Layer').plot(ax=ax[1,0],label=expt)\n",
    "    \n",
    "    darray = xr.open_mfdataset('/g/data/v45/amh157/mom6/archive/'+expt+'/output*/ocean.stats.nc',decode_times=False).APE\n",
    "    darray.coords['Time'] = darray.coords['Time']/365\n",
    "    darray.sum('Interface').plot(ax=ax[1,1], label=expt)\n",
    "    \n",
    "ax[0,0].set_title('Heat')\n",
    "ax[0,0].legend()\n",
    "ax[0,0].set_xlabel('')\n",
    "ax[0,1].set_title('Age')\n",
    "ax[0,1].set_xlabel('')\n",
    "ax[1,0].set_title('Kinetic Energy')\n",
    "ax[1,0].set_xlabel('Time (years)')\n",
    "ax[1,1].set_title('Available Potential Energy')\n",
    "ax[1,1].set_xlabel('Time (years)')"
   ]
  },
  {
   "cell_type": "markdown",
   "metadata": {},
   "source": [
    "## Mixed Layer Depth"
   ]
  },
  {
   "cell_type": "code",
   "execution_count": 6,
   "metadata": {},
   "outputs": [
    {
     "name": "stdout",
     "output_type": "stream",
     "text": [
      "Done/g/data/v45/amh157/tub-north-processed/tub-north-GM-1deg/mlotst_averaged.nc\n",
      "Done/g/data/v45/amh157/tub-north-processed/tub-north-GM-1deg-tx00/mlotst_averaged.nc\n"
     ]
    }
   ],
   "source": [
    "variable = 'mlotst'\n",
    "for ekey in GMkeys: #exptdict.keys():\n",
    "    expt = exptdict[ekey]['expt']\n",
    "    start_time = exptdict[ekey]['start_time']\n",
    "    darray = cc.querying.getvar(expt, variable, session, start_time=start_time )\n",
    "    MLD = darray.mean('Time')\n",
    "    FileName = processed+expt+'/'+variable+'_averaged.nc'\n",
    "    MLD.to_netcdf(FileName)\n",
    "    print('Done'+FileName)"
   ]
  },
  {
   "cell_type": "code",
   "execution_count": 14,
   "metadata": {},
   "outputs": [
    {
     "name": "stdout",
     "output_type": "stream",
     "text": [
      "Done/g/data/v45/amh157/tub-north-processed/tub-north-GM-1deg/mlotst_timeseries.nc\n",
      "Done/g/data/v45/amh157/tub-north-processed/tub-north-GM-1deg-tx00/mlotst_timeseries.nc\n"
     ]
    }
   ],
   "source": [
    "# Timeseries of mean MLD north of 55N\n",
    "variable = 'mlotst'\n",
    "for ekey in GMkeys: #exptdict.keys():\n",
    "    expt = exptdict[ekey]['expt']\n",
    "    darray = cc.querying.getvar(expt, variable, session, start_time='1000-01-01')\n",
    "    MLD = darray.resample(Time='A').mean('Time').mean('xh').sel(yh=slice(55,None)).mean('yh')\n",
    "    FileName = processed+expt+'/'+variable+'_timeseries.nc'\n",
    "    MLD.to_netcdf(FileName)\n",
    "    print('Done'+FileName)"
   ]
  },
  {
   "cell_type": "markdown",
   "metadata": {},
   "source": [
    "## Heat Flux\n"
   ]
  },
  {
   "cell_type": "code",
   "execution_count": 8,
   "metadata": {},
   "outputs": [
    {
     "name": "stdout",
     "output_type": "stream",
     "text": [
      "Done/g/data/v45/amh157/tub-north-processed/tub-north-GM-1deg/heat_added_averaged.nc\n",
      "Done/g/data/v45/amh157/tub-north-processed/tub-north-GM-1deg-tx00/heat_added_averaged.nc\n"
     ]
    }
   ],
   "source": [
    "variable = 'heat_added'\n",
    "for ekey in GMkeys: #exptdict.keys():\n",
    "    expt = exptdict[ekey]['expt']\n",
    "    start_time = exptdict[ekey]['start_time']\n",
    "    darray = cc.querying.getvar(expt, variable, session, start_time=start_time)\n",
    "    HF = darray.mean('Time')\n",
    "    FileName = processed+expt+'/'+variable+'_averaged.nc'\n",
    "    HF.to_netcdf(FileName)\n",
    "    print('Done'+FileName)"
   ]
  },
  {
   "cell_type": "code",
   "execution_count": 17,
   "metadata": {},
   "outputs": [
    {
     "name": "stdout",
     "output_type": "stream",
     "text": [
      "Done/g/data/v45/amh157/tub-north-processed/tub-north-GM-1deg/heat_added_north_timeseries.nc\n",
      "Done/g/data/v45/amh157/tub-north-processed/tub-north-GM-1deg/heat_added_south_timeseries.nc\n",
      "Done/g/data/v45/amh157/tub-north-processed/tub-north-GM-1deg-tx00/heat_added_north_timeseries.nc\n",
      "Done/g/data/v45/amh157/tub-north-processed/tub-north-GM-1deg-tx00/heat_added_south_timeseries.nc\n"
     ]
    }
   ],
   "source": [
    "variable = 'heat_added'\n",
    "for ekey in GMkeys: #exptdict.keys():\n",
    "    expt = exptdict[ekey]['expt']\n",
    "    darray = cc.querying.getvar(expt, variable, session, start_time='1000-01-01')\n",
    "    HFn = darray.resample(Time='A').mean('Time').mean('xh').sel(yh=slice(50,None)).mean('yh')\n",
    "    FileName = processed+expt+'/'+variable+'_north_timeseries.nc'\n",
    "    HFn.to_netcdf(FileName)\n",
    "    print('Done'+FileName)\n",
    "    HFs = darray.resample(Time='A').mean('Time').mean('xh').sel(yh=slice(10,30)).mean('yh')\n",
    "    FileName = processed+expt+'/'+variable+'_south_timeseries.nc'\n",
    "    HFs.to_netcdf(FileName)\n",
    "    print('Done'+FileName)"
   ]
  },
  {
   "cell_type": "markdown",
   "metadata": {},
   "source": [
    "## SSH"
   ]
  },
  {
   "cell_type": "code",
   "execution_count": 10,
   "metadata": {},
   "outputs": [
    {
     "name": "stdout",
     "output_type": "stream",
     "text": [
      "Done/g/data/v45/amh157/tub-north-processed/tub-north-GM-1deg/SSH_averaged.nc\n",
      "Done/g/data/v45/amh157/tub-north-processed/tub-north-GM-1deg-tx00/SSH_averaged.nc\n"
     ]
    }
   ],
   "source": [
    "variable = 'SSH'\n",
    "for ekey in GMkeys: #exptdict.keys():\n",
    "    expt = exptdict[ekey]['expt']\n",
    "    start_time = exptdict[ekey]['start_time']\n",
    "    darray = cc.querying.getvar(expt, variable, session,start_time=start_time)\n",
    "    SSH = darray.mean('Time')\n",
    "    FileName = processed+expt+'/'+variable+'_averaged.nc'\n",
    "    SSH.to_netcdf(FileName)\n",
    "    print('Done'+FileName)"
   ]
  },
  {
   "cell_type": "code",
   "execution_count": 18,
   "metadata": {},
   "outputs": [
    {
     "name": "stdout",
     "output_type": "stream",
     "text": [
      "Done/g/data/v45/amh157/tub-north-processed/tub-north-GM-1deg/SSH_min_timeseries.nc\n",
      "Done/g/data/v45/amh157/tub-north-processed/tub-north-GM-1deg/SSH_max_timeseries.nc\n",
      "Done/g/data/v45/amh157/tub-north-processed/tub-north-GM-1deg-tx00/SSH_min_timeseries.nc\n",
      "Done/g/data/v45/amh157/tub-north-processed/tub-north-GM-1deg-tx00/SSH_max_timeseries.nc\n"
     ]
    }
   ],
   "source": [
    "variable = 'SSH'\n",
    "for ekey in GMkeys: #exptdict.keys():\n",
    "    expt = exptdict[ekey]['expt']\n",
    "    darray = cc.querying.getvar(expt, variable, session, start_time='1000-01-01')\n",
    "    SSHmin = darray.resample(Time='A').mean('Time').mean('xh').sel(yh=slice(50,None)).mean('yh')\n",
    "    FileName = processed+expt+'/'+variable+'_min_timeseries.nc'\n",
    "    SSHmin.to_netcdf(FileName)\n",
    "    print('Done'+FileName)\n",
    "    SSHmax = darray.resample(Time='A').mean('Time').mean('xh').sel(yh=slice(10,30)).mean('yh')\n",
    "    FileName = processed+expt+'/'+variable+'_max_timeseries.nc'\n",
    "    SSHmax.to_netcdf(FileName)\n",
    "    print('Done'+FileName)"
   ]
  },
  {
   "cell_type": "markdown",
   "metadata": {},
   "source": [
    "# SST"
   ]
  },
  {
   "cell_type": "code",
   "execution_count": 7,
   "metadata": {},
   "outputs": [
    {
     "name": "stdout",
     "output_type": "stream",
     "text": [
      "Done/g/data/v45/amh157/tub-north-processed/tub-north-tx01-fc00/temp_surf_averaged.nc\n",
      "Done/g/data/v45/amh157/tub-north-processed/tub-north-tx01-fc005/temp_surf_averaged.nc\n",
      "Done/g/data/v45/amh157/tub-north-processed/tub-north-tx01-fc01/temp_surf_averaged.nc\n",
      "Done/g/data/v45/amh157/tub-north-processed/tub-north-tx01-fc03/temp_surf_averaged.nc\n",
      "Done/g/data/v45/amh157/tub-north-processed/tub-north-tx00-fc02/temp_surf_averaged.nc\n",
      "Done/g/data/v45/amh157/tub-north-processed/tub-north-tx00-fc02-pert/temp_surf_averaged.nc\n",
      "Done/g/data/v45/amh157/tub-north-processed/tub-north-tx005-fc02/temp_surf_averaged.nc\n",
      "Done/g/data/v45/amh157/tub-north-processed/tub-north-tx01-fc02/temp_surf_averaged.nc\n",
      "Done/g/data/v45/amh157/tub-north-processed/tub-north-tx02-fc02/temp_surf_averaged.nc\n",
      "Done/g/data/v45/amh157/tub-north-processed/tub-north-GM-1deg/temp_surf_averaged.nc\n",
      "Done/g/data/v45/amh157/tub-north-processed/tub-north-GM-1deg-tx00/temp_surf_averaged.nc\n"
     ]
    }
   ],
   "source": [
    "variable = 'temp'\n",
    "for ekey in exptdict.keys():\n",
    "    expt = exptdict[ekey]['expt']\n",
    "    start_time = exptdict[ekey]['start_time']\n",
    "    darray = cc.querying.getvar(expt, variable, session,start_time=start_time)\n",
    "    SSH = darray.isel(zl=0).mean('Time')\n",
    "    FileName = processed+expt+'/'+variable+'_surf_averaged.nc'\n",
    "    SSH.to_netcdf(FileName)\n",
    "    print('Done'+FileName)"
   ]
  },
  {
   "cell_type": "markdown",
   "metadata": {},
   "source": [
    "# Temperature Transect"
   ]
  },
  {
   "cell_type": "code",
   "execution_count": 9,
   "metadata": {},
   "outputs": [
    {
     "name": "stdout",
     "output_type": "stream",
     "text": [
      "Done/g/data/v45/amh157/tub-north-processed/tub-north-tx01-fc00/temp_zonally_averaged.nc\n",
      "Done/g/data/v45/amh157/tub-north-processed/tub-north-tx01-fc005/temp_zonally_averaged.nc\n",
      "Done/g/data/v45/amh157/tub-north-processed/tub-north-tx01-fc01/temp_zonally_averaged.nc\n",
      "Done/g/data/v45/amh157/tub-north-processed/tub-north-tx01-fc03/temp_zonally_averaged.nc\n",
      "Done/g/data/v45/amh157/tub-north-processed/tub-north-tx00-fc02/temp_zonally_averaged.nc\n",
      "Done/g/data/v45/amh157/tub-north-processed/tub-north-tx00-fc02-pert/temp_zonally_averaged.nc\n",
      "Done/g/data/v45/amh157/tub-north-processed/tub-north-tx005-fc02/temp_zonally_averaged.nc\n",
      "Done/g/data/v45/amh157/tub-north-processed/tub-north-tx01-fc02/temp_zonally_averaged.nc\n",
      "Done/g/data/v45/amh157/tub-north-processed/tub-north-tx02-fc02/temp_zonally_averaged.nc\n",
      "Done/g/data/v45/amh157/tub-north-processed/tub-north-GM-1deg/temp_zonally_averaged.nc\n",
      "Done/g/data/v45/amh157/tub-north-processed/tub-north-GM-1deg-tx00/temp_zonally_averaged.nc\n"
     ]
    }
   ],
   "source": [
    "variable = 'temp'\n",
    "for ekey in exptdict.keys():\n",
    "    expt = exptdict[ekey]['expt']\n",
    "    start_time = exptdict[ekey]['start_time']\n",
    "    darray = cc.querying.getvar(expt, variable, session,start_time=start_time)\n",
    "    SSH = darray.mean('xh').mean('Time')\n",
    "    FileName = processed+expt+'/'+variable+'_zonally_averaged.nc'\n",
    "    SSH.to_netcdf(FileName)\n",
    "    print('Done'+FileName)"
   ]
  },
  {
   "cell_type": "markdown",
   "metadata": {},
   "source": [
    "## Upper ocean streamfunction"
   ]
  },
  {
   "cell_type": "code",
   "execution_count": 12,
   "metadata": {},
   "outputs": [
    {
     "name": "stdout",
     "output_type": "stream",
     "text": [
      "Done/g/data/v45/amh157/tub-north-processed/tub-north-GM-1deg/vh_rho_upper_averaged.nc\n",
      "Done/g/data/v45/amh157/tub-north-processed/tub-north-GM-1deg-tx00/vh_rho_upper_averaged.nc\n"
     ]
    }
   ],
   "source": [
    "variable = 'vh_rho'\n",
    "for ekey in GMkeys: #exptdict.keys():\n",
    "    expt = exptdict[ekey]['expt']\n",
    "    start_time = exptdict[ekey]['start_time']\n",
    "    darray = cc.querying.getvar(expt, variable, session, start_time=start_time)/1e6\n",
    "    psi = darray.mean('Time').sel(rho_l=slice(None,1034)).sum('rho_l').cumsum('xh')\n",
    "    FileName = processed+expt+'/'+variable+'_upper_averaged.nc'\n",
    "    psi.to_netcdf(FileName)\n",
    "    print('Done'+FileName)"
   ]
  },
  {
   "cell_type": "code",
   "execution_count": 19,
   "metadata": {},
   "outputs": [
    {
     "name": "stdout",
     "output_type": "stream",
     "text": [
      "Done/g/data/v45/amh157/tub-north-processed/tub-north-GM-1deg/vh_rho_upper_timeseries.nc\n",
      "Done/g/data/v45/amh157/tub-north-processed/tub-north-GM-1deg-tx00/vh_rho_upper_timeseries.nc\n"
     ]
    }
   ],
   "source": [
    "variable = 'vh_rho'\n",
    "for ekey in GMkeys: #exptdict.keys():\n",
    "    expt = exptdict[ekey]['expt']\n",
    "    darray = cc.querying.getvar(expt, variable, session, start_time='1000-01-01')/1e6\n",
    "    psi = darray.resample(Time='A').mean('Time').sel(rho_l=slice(None,1034)).sum('rho_l').cumsum('xh').sel(xh=10,method='nearest').max(dim='yq')\n",
    "    FileName = processed+expt+'/'+variable+'_upper_timeseries.nc'\n",
    "    psi.to_netcdf(FileName)\n",
    "    print('Done'+FileName)"
   ]
  },
  {
   "cell_type": "markdown",
   "metadata": {},
   "source": [
    "## Lower ocean streamfunction"
   ]
  },
  {
   "cell_type": "code",
   "execution_count": 14,
   "metadata": {},
   "outputs": [
    {
     "name": "stdout",
     "output_type": "stream",
     "text": [
      "Done/g/data/v45/amh157/tub-north-processed/tub-north-GM-1deg/vh_rho_lower_averaged.nc\n",
      "Done/g/data/v45/amh157/tub-north-processed/tub-north-GM-1deg-tx00/vh_rho_lower_averaged.nc\n"
     ]
    }
   ],
   "source": [
    "variable = 'vh_rho'\n",
    "for ekey in GMkeys: #exptdict.keys():\n",
    "    expt = exptdict[ekey]['expt']\n",
    "    start_time = exptdict[ekey]['start_time']\n",
    "    darray = cc.querying.getvar(expt, variable, session, start_time=start_time)/1e6\n",
    "    psi = darray.mean('Time').sel(rho_l=slice(1034,None)).sum('rho_l').cumsum('xh')\n",
    "    FileName = processed+expt+'/'+variable+'_lower_averaged.nc'\n",
    "    psi.to_netcdf(FileName)\n",
    "    print('Done'+FileName)"
   ]
  },
  {
   "cell_type": "code",
   "execution_count": 20,
   "metadata": {},
   "outputs": [
    {
     "name": "stdout",
     "output_type": "stream",
     "text": [
      "Done/g/data/v45/amh157/tub-north-processed/tub-north-GM-1deg/vh_rho_lower_timeseries.nc\n",
      "Done/g/data/v45/amh157/tub-north-processed/tub-north-GM-1deg-tx00/vh_rho_lower_timeseries.nc\n"
     ]
    }
   ],
   "source": [
    "variable = 'vh_rho'\n",
    "for ekey in GMkeys: #exptdict.keys():\n",
    "    expt = exptdict[ekey]['expt']\n",
    "    darray = cc.querying.getvar(expt, variable, session, start_time='1000-01-01')/1e6\n",
    "    psi = darray.resample(Time='A').mean('Time').sel(rho_l=slice(1034,None)).sum('rho_l').cumsum('xh').sel(xh=10,method='nearest').min(dim='yq')\n",
    "    FileName = processed+expt+'/'+variable+'_lower_timeseries.nc'\n",
    "    psi.to_netcdf(FileName)\n",
    "    print('Done'+FileName)"
   ]
  },
  {
   "cell_type": "markdown",
   "metadata": {},
   "source": [
    "## Overturning"
   ]
  },
  {
   "cell_type": "code",
   "execution_count": 16,
   "metadata": {},
   "outputs": [
    {
     "name": "stdout",
     "output_type": "stream",
     "text": [
      "Done/g/data/v45/amh157/tub-north-processed/tub-north-GM-1deg/vh_rho_overturning_averaged.nc\n",
      "Done/g/data/v45/amh157/tub-north-processed/tub-north-GM-1deg-tx00/vh_rho_overturning_averaged.nc\n"
     ]
    }
   ],
   "source": [
    "variable = 'vh_rho'\n",
    "for ekey in GMkeys: #exptdict.keys():\n",
    "    expt = exptdict[ekey]['expt']\n",
    "    start_time = exptdict[ekey]['start_time']\n",
    "    darray = cc.querying.getvar(expt, variable, session, start_time=start_time)/1e6\n",
    "    psi = darray.mean('Time').sum('xh').cumsum('rho_l')\n",
    "    FileName = processed+expt+'/'+variable+'_overturning_averaged.nc'\n",
    "    psi.to_netcdf(FileName)\n",
    "    print('Done'+FileName)"
   ]
  },
  {
   "cell_type": "code",
   "execution_count": 21,
   "metadata": {},
   "outputs": [
    {
     "name": "stdout",
     "output_type": "stream",
     "text": [
      "Done/g/data/v45/amh157/tub-north-processed/tub-north-GM-1deg/vh_rho_overturning_timeseries.nc\n",
      "Done/g/data/v45/amh157/tub-north-processed/tub-north-GM-1deg-tx00/vh_rho_overturning_timeseries.nc\n"
     ]
    }
   ],
   "source": [
    "variable = 'vh_rho'\n",
    "for ekey in GMkeys: #exptdict.keys():\n",
    "    expt = exptdict[ekey]['expt']\n",
    "    darray = cc.querying.getvar(expt, variable, session, start_time='1000-01-01')/1e6\n",
    "    psi = darray.resample(Time='A').mean('Time').sel(yq=slice(20,30)).mean('yq').sum('xh').cumsum('rho_l').sel(rho_l=slice(1034,None)).max(dim='rho_l')\n",
    "    FileName = processed+expt+'/'+variable+'_overturning_timeseries.nc'\n",
    "    psi.to_netcdf(FileName)\n",
    "    print('Done'+FileName)"
   ]
  },
  {
   "cell_type": "markdown",
   "metadata": {},
   "source": [
    "## Barotropic streamfunction"
   ]
  },
  {
   "cell_type": "code",
   "execution_count": 18,
   "metadata": {},
   "outputs": [
    {
     "name": "stdout",
     "output_type": "stream",
     "text": [
      "Done/g/data/v45/amh157/tub-north-processed/tub-north-GM-1deg/vh_rho_barotropic_averaged.nc\n",
      "Done/g/data/v45/amh157/tub-north-processed/tub-north-GM-1deg-tx00/vh_rho_barotropic_averaged.nc\n"
     ]
    }
   ],
   "source": [
    "variable = 'vh_rho'\n",
    "for ekey in GMkeys: #exptdict.keys():\n",
    "    expt = exptdict[ekey]['expt']\n",
    "    start_time = exptdict[ekey]['start_time']\n",
    "    darray = cc.querying.getvar(expt, variable, session, start_time=start_time)/1e6\n",
    "    psi = darray.mean('Time').sum('rho_l').cumsum('xh')\n",
    "    FileName = processed+expt+'/'+variable+'_barotropic_averaged.nc'\n",
    "    psi.to_netcdf(FileName)\n",
    "    print('Done'+FileName)"
   ]
  },
  {
   "cell_type": "code",
   "execution_count": 22,
   "metadata": {},
   "outputs": [
    {
     "name": "stdout",
     "output_type": "stream",
     "text": [
      "Done/g/data/v45/amh157/tub-north-processed/tub-north-GM-1deg/vh_rho_barotropic_min_timeseries.nc\n",
      "Done/g/data/v45/amh157/tub-north-processed/tub-north-GM-1deg/vh_rho_barotropic_max_timeseries.nc\n",
      "Done/g/data/v45/amh157/tub-north-processed/tub-north-GM-1deg-tx00/vh_rho_barotropic_min_timeseries.nc\n",
      "Done/g/data/v45/amh157/tub-north-processed/tub-north-GM-1deg-tx00/vh_rho_barotropic_max_timeseries.nc\n"
     ]
    }
   ],
   "source": [
    "variable = 'vh_rho'\n",
    "for ekey in GMkeys: #exptdict.keys():\n",
    "    expt = exptdict[ekey]['expt']\n",
    "    darray = cc.querying.getvar(expt, variable, session, start_time='1000-01-01')/1e6\n",
    "    psi = darray.resample(Time='A').mean('Time').sum('rho_l').sel(yq=slice(20,50)).cumsum('xh').sel(xh=10,method='nearest')\n",
    "    psimin = psi.min(dim='yq')\n",
    "    FileName = processed+expt+'/'+variable+'_barotropic_min_timeseries.nc'\n",
    "    psimin.to_netcdf(FileName)\n",
    "    print('Done'+FileName)\n",
    "    psimax = psi.max(dim='yq')\n",
    "    FileName = processed+expt+'/'+variable+'_barotropic_max_timeseries.nc'\n",
    "    psimax.to_netcdf(FileName)\n",
    "    print('Done'+FileName)"
   ]
  },
  {
   "cell_type": "markdown",
   "metadata": {},
   "source": [
    "## Stratification"
   ]
  },
  {
   "cell_type": "code",
   "execution_count": 20,
   "metadata": {},
   "outputs": [
    {
     "name": "stdout",
     "output_type": "stream",
     "text": [
      "Done/g/data/v45/amh157/tub-north-processed/tub-north-GM-1deg/h_rho_1034_averaged.nc\n",
      "Done/g/data/v45/amh157/tub-north-processed/tub-north-GM-1deg-tx00/h_rho_1034_averaged.nc\n"
     ]
    }
   ],
   "source": [
    "variable = 'h_rho'\n",
    "for ekey in GMkeys: #exptdict.keys():\n",
    "    expt = exptdict[ekey]['expt']\n",
    "    start_time = exptdict[ekey]['start_time']\n",
    "    darray = cc.querying.getvar(expt, variable, session, start_time=start_time)\n",
    "    h = darray.mean('Time').sel(rho_l=slice(None,1034)).sum('rho_l')\n",
    "    FileName = processed+expt+'/'+variable+'_1034_averaged.nc'\n",
    "    h.to_netcdf(FileName)\n",
    "    print('Done'+FileName)"
   ]
  },
  {
   "cell_type": "markdown",
   "metadata": {},
   "source": [
    "# All Variables in a single file\n",
    "\n",
    "For saving the output on zenodo, we need to minimise the number of files. To do this, here is a method to construct all averaged variables for each simulation in a single file.\n",
    "\n",
    "## Averaged Quantities"
   ]
  },
  {
   "cell_type": "code",
   "execution_count": 86,
   "metadata": {},
   "outputs": [
    {
     "name": "stderr",
     "output_type": "stream",
     "text": [
      "distributed.utils_perf - WARNING - full garbage collections took 10% CPU time recently (threshold: 10%)\n",
      "distributed.utils_perf - WARNING - full garbage collections took 10% CPU time recently (threshold: 10%)\n",
      "distributed.utils_perf - WARNING - full garbage collections took 10% CPU time recently (threshold: 10%)\n",
      "distributed.utils_perf - WARNING - full garbage collections took 10% CPU time recently (threshold: 10%)\n",
      "distributed.utils_perf - WARNING - full garbage collections took 10% CPU time recently (threshold: 10%)\n",
      "distributed.utils_perf - WARNING - full garbage collections took 10% CPU time recently (threshold: 10%)\n",
      "distributed.utils_perf - WARNING - full garbage collections took 10% CPU time recently (threshold: 10%)\n",
      "distributed.utils_perf - WARNING - full garbage collections took 10% CPU time recently (threshold: 10%)\n",
      "distributed.utils_perf - WARNING - full garbage collections took 10% CPU time recently (threshold: 10%)\n",
      "distributed.utils_perf - WARNING - full garbage collections took 10% CPU time recently (threshold: 10%)\n",
      "distributed.utils_perf - WARNING - full garbage collections took 10% CPU time recently (threshold: 10%)\n",
      "distributed.utils_perf - WARNING - full garbage collections took 10% CPU time recently (threshold: 10%)\n"
     ]
    },
    {
     "name": "stdout",
     "output_type": "stream",
     "text": [
      "Done/g/data/v45/amh157/tub-north-processed/data//tub-north-tx01-fc00_averaged.nc\n",
      "Done/g/data/v45/amh157/tub-north-processed/data//tub-north-tx01-fc005_averaged.nc\n",
      "Done/g/data/v45/amh157/tub-north-processed/data//tub-north-tx01-fc01_averaged.nc\n",
      "Done/g/data/v45/amh157/tub-north-processed/data//tub-north-tx01-fc03_averaged.nc\n",
      "Done/g/data/v45/amh157/tub-north-processed/data//tub-north-tx00-fc02_averaged.nc\n",
      "Done/g/data/v45/amh157/tub-north-processed/data//tub-north-tx00-fc02-pert_averaged.nc\n",
      "Done/g/data/v45/amh157/tub-north-processed/data//tub-north-tx005-fc02_averaged.nc\n",
      "Done/g/data/v45/amh157/tub-north-processed/data//tub-north-tx01-fc02_averaged.nc\n",
      "Done/g/data/v45/amh157/tub-north-processed/data//tub-north-tx02-fc02_averaged.nc\n",
      "Done/g/data/v45/amh157/tub-north-processed/data//tub-north-GM-1deg_averaged.nc\n",
      "Done/g/data/v45/amh157/tub-north-processed/data//tub-north-GM-1deg-tx00_averaged.nc\n",
      "Done All ....\n"
     ]
    }
   ],
   "source": [
    "for ekey in exptdict.keys():\n",
    "\n",
    "    expt = exptdict[ekey]['expt']\n",
    "    start_time = exptdict[ekey]['start_time']\n",
    "    \n",
    "    variable = 'mlotst'\n",
    "    ###################\n",
    "    darray = cc.querying.getvar(expt, variable, session, start_time=start_time )\n",
    "    MLD = darray.mean('Time')\n",
    "    MLD.attrs['long_name'] = 'Time Averaged ' + darray.attrs['long_name']\n",
    "    MLD.attrs['units'] = darray.attrs['units']\n",
    "    \n",
    "    variable = 'heat_added'\n",
    "    #######################\n",
    "    darray = cc.querying.getvar(expt, variable, session, start_time=start_time)\n",
    "    HF = darray.mean('Time')\n",
    "    HF.attrs['long_name'] = 'Time Averaged restoring surface heat flux into ocean'\n",
    "    HF.attrs['units'] = darray.attrs['units']\n",
    "    \n",
    "    variable = 'SSH'\n",
    "    ################\n",
    "    darray = cc.querying.getvar(expt, variable, session,start_time=start_time)\n",
    "    SSH = darray.mean('Time')\n",
    "    SSH.attrs['long_name'] = 'Time Averaged ' + darray.attrs['long_name']\n",
    "    SSH.attrs['units'] = darray.attrs['units']\n",
    "    \n",
    "    variable = 'temp'\n",
    "    #################\n",
    "    darray = cc.querying.getvar(expt, variable, session,start_time=start_time)\n",
    "    SST = darray.isel(zl=0).drop('zl').mean('Time')\n",
    "    SST.name = 'SST'\n",
    "    SST.attrs['long_name'] = 'Time Averaged Sea Surface Temperature'\n",
    "    SST.attrs['units'] = darray.attrs['units']\n",
    "    \n",
    "    temp = darray.mean('xh').mean('Time')#'_zonally_averaged.nc'\n",
    "    temp.name = 'temp_zonal_avge'\n",
    "    temp.attrs['long_name'] = 'Zonally Averaged ' + darray.attrs['long_name']\n",
    "    temp.attrs['units'] = darray.attrs['units']\n",
    "    \n",
    "    variable = 'vh_rho'\n",
    "    ###################\n",
    "    darray = cc.querying.getvar(expt, variable, session, start_time=start_time)/1e6\n",
    "    darray.attrs['units'] = 'Sv'\n",
    "    \n",
    "    psi_overturning = darray.mean('Time').sum('xh').cumsum('rho_l')\n",
    "    psi_overturning.name = 'residual_streamfunction'\n",
    "    psi_overturning.attrs['long_name'] = 'Residual streamfunction calculated in density space'\n",
    "    psi_overturning.attrs['units'] = darray.attrs['units']\n",
    "    \n",
    "    psi_barotropic = darray.mean('Time').sum('rho_l').cumsum('xh') \n",
    "    psi_barotropic.name = 'barotropic_streamfunction'\n",
    "    psi_barotropic.attrs['long_name'] = 'Time averaged barotropic streamfunction'\n",
    "    psi_barotropic.attrs['units'] = darray.attrs['units']\n",
    "    \n",
    "    psi_upper = darray.mean('Time').sel(rho_l=slice(None,1034)).sum('rho_l').cumsum('xh')\n",
    "    psi_upper.name = 'upper_ocean_streamfunction'\n",
    "    psi_upper.attrs['long_name'] = 'Upper Ocean Streamfunction (above 1034 isopycnal)'\n",
    "    psi_upper.attrs['units'] = darray.attrs['units']\n",
    "    \n",
    "    psi_lower = darray.mean('Time').sel(rho_l=slice(1034,None)).sum('rho_l').cumsum('xh') \n",
    "    psi_lower.name = 'lower_ocean_streamfunction'\n",
    "    psi_lower.attrs['long_name'] = 'Lower Ocean Streamfunction (below 1034 isopycnal)'\n",
    "    psi_lower.attrs['units'] = darray.attrs['units']\n",
    "    \n",
    "    \n",
    "    variable = 'h_rho'\n",
    "    ##################\n",
    "    darray = cc.querying.getvar(expt, variable, session, start_time=start_time)\n",
    "    h = darray.mean('Time').sel(rho_l=slice(None,1034)).sum('rho_l')#'_1034_averaged.nc'\n",
    "    h.attrs['long_name'] = 'Time average depth of 1034 ispycnal'\n",
    "    h.attrs['units'] = darray.attrs['units']\n",
    "\n",
    "    \n",
    "    combined_array = xr.merge([MLD, HF, SSH, SST, temp, psi_barotropic, psi_overturning, psi_upper, psi_lower, h])\n",
    "    FileName = processed+'/'+expt+'_averaged.nc'\n",
    "    combined_array.to_netcdf(FileName)\n",
    "    print('Done'+FileName)\n",
    "\n",
    "print('Done All ....')\n",
    "    "
   ]
  },
  {
   "cell_type": "code",
   "execution_count": 87,
   "metadata": {},
   "outputs": [
    {
     "data": {
      "text/html": [
       "<div><svg style=\"position: absolute; width: 0; height: 0; overflow: hidden\">\n",
       "<defs>\n",
       "<symbol id=\"icon-database\" viewBox=\"0 0 32 32\">\n",
       "<title>Show/Hide data repr</title>\n",
       "<path d=\"M16 0c-8.837 0-16 2.239-16 5v4c0 2.761 7.163 5 16 5s16-2.239 16-5v-4c0-2.761-7.163-5-16-5z\"></path>\n",
       "<path d=\"M16 17c-8.837 0-16-2.239-16-5v6c0 2.761 7.163 5 16 5s16-2.239 16-5v-6c0 2.761-7.163 5-16 5z\"></path>\n",
       "<path d=\"M16 26c-8.837 0-16-2.239-16-5v6c0 2.761 7.163 5 16 5s16-2.239 16-5v-6c0 2.761-7.163 5-16 5z\"></path>\n",
       "</symbol>\n",
       "<symbol id=\"icon-file-text2\" viewBox=\"0 0 32 32\">\n",
       "<title>Show/Hide attributes</title>\n",
       "<path d=\"M28.681 7.159c-0.694-0.947-1.662-2.053-2.724-3.116s-2.169-2.030-3.116-2.724c-1.612-1.182-2.393-1.319-2.841-1.319h-15.5c-1.378 0-2.5 1.121-2.5 2.5v27c0 1.378 1.122 2.5 2.5 2.5h23c1.378 0 2.5-1.122 2.5-2.5v-19.5c0-0.448-0.137-1.23-1.319-2.841zM24.543 5.457c0.959 0.959 1.712 1.825 2.268 2.543h-4.811v-4.811c0.718 0.556 1.584 1.309 2.543 2.268zM28 29.5c0 0.271-0.229 0.5-0.5 0.5h-23c-0.271 0-0.5-0.229-0.5-0.5v-27c0-0.271 0.229-0.5 0.5-0.5 0 0 15.499-0 15.5 0v7c0 0.552 0.448 1 1 1h7v19.5z\"></path>\n",
       "<path d=\"M23 26h-14c-0.552 0-1-0.448-1-1s0.448-1 1-1h14c0.552 0 1 0.448 1 1s-0.448 1-1 1z\"></path>\n",
       "<path d=\"M23 22h-14c-0.552 0-1-0.448-1-1s0.448-1 1-1h14c0.552 0 1 0.448 1 1s-0.448 1-1 1z\"></path>\n",
       "<path d=\"M23 18h-14c-0.552 0-1-0.448-1-1s0.448-1 1-1h14c0.552 0 1 0.448 1 1s-0.448 1-1 1z\"></path>\n",
       "</symbol>\n",
       "</defs>\n",
       "</svg>\n",
       "<style>/* CSS stylesheet for displaying xarray objects in jupyterlab.\n",
       " *\n",
       " */\n",
       "\n",
       ":root {\n",
       "  --xr-font-color0: var(--jp-content-font-color0, rgba(0, 0, 0, 1));\n",
       "  --xr-font-color2: var(--jp-content-font-color2, rgba(0, 0, 0, 0.54));\n",
       "  --xr-font-color3: var(--jp-content-font-color3, rgba(0, 0, 0, 0.38));\n",
       "  --xr-border-color: var(--jp-border-color2, #e0e0e0);\n",
       "  --xr-disabled-color: var(--jp-layout-color3, #bdbdbd);\n",
       "  --xr-background-color: var(--jp-layout-color0, white);\n",
       "  --xr-background-color-row-even: var(--jp-layout-color1, white);\n",
       "  --xr-background-color-row-odd: var(--jp-layout-color2, #eeeeee);\n",
       "}\n",
       "\n",
       ".xr-wrap {\n",
       "  min-width: 300px;\n",
       "  max-width: 700px;\n",
       "}\n",
       "\n",
       ".xr-header {\n",
       "  padding-top: 6px;\n",
       "  padding-bottom: 6px;\n",
       "  margin-bottom: 4px;\n",
       "  border-bottom: solid 1px var(--xr-border-color);\n",
       "}\n",
       "\n",
       ".xr-header > div,\n",
       ".xr-header > ul {\n",
       "  display: inline;\n",
       "  margin-top: 0;\n",
       "  margin-bottom: 0;\n",
       "}\n",
       "\n",
       ".xr-obj-type,\n",
       ".xr-array-name {\n",
       "  margin-left: 2px;\n",
       "  margin-right: 10px;\n",
       "}\n",
       "\n",
       ".xr-obj-type {\n",
       "  color: var(--xr-font-color2);\n",
       "}\n",
       "\n",
       ".xr-sections {\n",
       "  padding-left: 0 !important;\n",
       "  display: grid;\n",
       "  grid-template-columns: 150px auto auto 1fr 20px 20px;\n",
       "}\n",
       "\n",
       ".xr-section-item {\n",
       "  display: contents;\n",
       "}\n",
       "\n",
       ".xr-section-item input {\n",
       "  display: none;\n",
       "}\n",
       "\n",
       ".xr-section-item input + label {\n",
       "  color: var(--xr-disabled-color);\n",
       "}\n",
       "\n",
       ".xr-section-item input:enabled + label {\n",
       "  cursor: pointer;\n",
       "  color: var(--xr-font-color2);\n",
       "}\n",
       "\n",
       ".xr-section-item input:enabled + label:hover {\n",
       "  color: var(--xr-font-color0);\n",
       "}\n",
       "\n",
       ".xr-section-summary {\n",
       "  grid-column: 1;\n",
       "  color: var(--xr-font-color2);\n",
       "  font-weight: 500;\n",
       "}\n",
       "\n",
       ".xr-section-summary > span {\n",
       "  display: inline-block;\n",
       "  padding-left: 0.5em;\n",
       "}\n",
       "\n",
       ".xr-section-summary-in:disabled + label {\n",
       "  color: var(--xr-font-color2);\n",
       "}\n",
       "\n",
       ".xr-section-summary-in + label:before {\n",
       "  display: inline-block;\n",
       "  content: '►';\n",
       "  font-size: 11px;\n",
       "  width: 15px;\n",
       "  text-align: center;\n",
       "}\n",
       "\n",
       ".xr-section-summary-in:disabled + label:before {\n",
       "  color: var(--xr-disabled-color);\n",
       "}\n",
       "\n",
       ".xr-section-summary-in:checked + label:before {\n",
       "  content: '▼';\n",
       "}\n",
       "\n",
       ".xr-section-summary-in:checked + label > span {\n",
       "  display: none;\n",
       "}\n",
       "\n",
       ".xr-section-summary,\n",
       ".xr-section-inline-details {\n",
       "  padding-top: 4px;\n",
       "  padding-bottom: 4px;\n",
       "}\n",
       "\n",
       ".xr-section-inline-details {\n",
       "  grid-column: 2 / -1;\n",
       "}\n",
       "\n",
       ".xr-section-details {\n",
       "  display: none;\n",
       "  grid-column: 1 / -1;\n",
       "  margin-bottom: 5px;\n",
       "}\n",
       "\n",
       ".xr-section-summary-in:checked ~ .xr-section-details {\n",
       "  display: contents;\n",
       "}\n",
       "\n",
       ".xr-array-wrap {\n",
       "  grid-column: 1 / -1;\n",
       "  display: grid;\n",
       "  grid-template-columns: 20px auto;\n",
       "}\n",
       "\n",
       ".xr-array-wrap > label {\n",
       "  grid-column: 1;\n",
       "  vertical-align: top;\n",
       "}\n",
       "\n",
       ".xr-preview {\n",
       "  color: var(--xr-font-color3);\n",
       "}\n",
       "\n",
       ".xr-array-preview,\n",
       ".xr-array-data {\n",
       "  padding: 0 5px !important;\n",
       "  grid-column: 2;\n",
       "}\n",
       "\n",
       ".xr-array-data,\n",
       ".xr-array-in:checked ~ .xr-array-preview {\n",
       "  display: none;\n",
       "}\n",
       "\n",
       ".xr-array-in:checked ~ .xr-array-data,\n",
       ".xr-array-preview {\n",
       "  display: inline-block;\n",
       "}\n",
       "\n",
       ".xr-dim-list {\n",
       "  display: inline-block !important;\n",
       "  list-style: none;\n",
       "  padding: 0 !important;\n",
       "  margin: 0;\n",
       "}\n",
       "\n",
       ".xr-dim-list li {\n",
       "  display: inline-block;\n",
       "  padding: 0;\n",
       "  margin: 0;\n",
       "}\n",
       "\n",
       ".xr-dim-list:before {\n",
       "  content: '(';\n",
       "}\n",
       "\n",
       ".xr-dim-list:after {\n",
       "  content: ')';\n",
       "}\n",
       "\n",
       ".xr-dim-list li:not(:last-child):after {\n",
       "  content: ',';\n",
       "  padding-right: 5px;\n",
       "}\n",
       "\n",
       ".xr-has-index {\n",
       "  font-weight: bold;\n",
       "}\n",
       "\n",
       ".xr-var-list,\n",
       ".xr-var-item {\n",
       "  display: contents;\n",
       "}\n",
       "\n",
       ".xr-var-item > div,\n",
       ".xr-var-item label,\n",
       ".xr-var-item > .xr-var-name span {\n",
       "  background-color: var(--xr-background-color-row-even);\n",
       "  margin-bottom: 0;\n",
       "}\n",
       "\n",
       ".xr-var-item > .xr-var-name:hover span {\n",
       "  padding-right: 5px;\n",
       "}\n",
       "\n",
       ".xr-var-list > li:nth-child(odd) > div,\n",
       ".xr-var-list > li:nth-child(odd) > label,\n",
       ".xr-var-list > li:nth-child(odd) > .xr-var-name span {\n",
       "  background-color: var(--xr-background-color-row-odd);\n",
       "}\n",
       "\n",
       ".xr-var-name {\n",
       "  grid-column: 1;\n",
       "}\n",
       "\n",
       ".xr-var-dims {\n",
       "  grid-column: 2;\n",
       "}\n",
       "\n",
       ".xr-var-dtype {\n",
       "  grid-column: 3;\n",
       "  text-align: right;\n",
       "  color: var(--xr-font-color2);\n",
       "}\n",
       "\n",
       ".xr-var-preview {\n",
       "  grid-column: 4;\n",
       "}\n",
       "\n",
       ".xr-var-name,\n",
       ".xr-var-dims,\n",
       ".xr-var-dtype,\n",
       ".xr-preview,\n",
       ".xr-attrs dt {\n",
       "  white-space: nowrap;\n",
       "  overflow: hidden;\n",
       "  text-overflow: ellipsis;\n",
       "  padding-right: 10px;\n",
       "}\n",
       "\n",
       ".xr-var-name:hover,\n",
       ".xr-var-dims:hover,\n",
       ".xr-var-dtype:hover,\n",
       ".xr-attrs dt:hover {\n",
       "  overflow: visible;\n",
       "  width: auto;\n",
       "  z-index: 1;\n",
       "}\n",
       "\n",
       ".xr-var-attrs,\n",
       ".xr-var-data {\n",
       "  display: none;\n",
       "  background-color: var(--xr-background-color) !important;\n",
       "  padding-bottom: 5px !important;\n",
       "}\n",
       "\n",
       ".xr-var-attrs-in:checked ~ .xr-var-attrs,\n",
       ".xr-var-data-in:checked ~ .xr-var-data {\n",
       "  display: block;\n",
       "}\n",
       "\n",
       ".xr-var-data > table {\n",
       "  float: right;\n",
       "}\n",
       "\n",
       ".xr-var-name span,\n",
       ".xr-var-data,\n",
       ".xr-attrs {\n",
       "  padding-left: 25px !important;\n",
       "}\n",
       "\n",
       ".xr-attrs,\n",
       ".xr-var-attrs,\n",
       ".xr-var-data {\n",
       "  grid-column: 1 / -1;\n",
       "}\n",
       "\n",
       "dl.xr-attrs {\n",
       "  padding: 0;\n",
       "  margin: 0;\n",
       "  display: grid;\n",
       "  grid-template-columns: 125px auto;\n",
       "}\n",
       "\n",
       ".xr-attrs dt, dd {\n",
       "  padding: 0;\n",
       "  margin: 0;\n",
       "  float: left;\n",
       "  padding-right: 10px;\n",
       "  width: auto;\n",
       "}\n",
       "\n",
       ".xr-attrs dt {\n",
       "  font-weight: normal;\n",
       "  grid-column: 1;\n",
       "}\n",
       "\n",
       ".xr-attrs dt:hover span {\n",
       "  display: inline-block;\n",
       "  background: var(--xr-background-color);\n",
       "  padding-right: 10px;\n",
       "}\n",
       "\n",
       ".xr-attrs dd {\n",
       "  grid-column: 2;\n",
       "  white-space: pre-wrap;\n",
       "  word-break: break-all;\n",
       "}\n",
       "\n",
       ".xr-icon-database,\n",
       ".xr-icon-file-text2 {\n",
       "  display: inline-block;\n",
       "  vertical-align: middle;\n",
       "  width: 1em;\n",
       "  height: 1.5em !important;\n",
       "  stroke-width: 0;\n",
       "  stroke: currentColor;\n",
       "  fill: currentColor;\n",
       "}\n",
       "</style><div class='xr-wrap'><div class='xr-header'><div class='xr-obj-type'>xarray.Dataset</div></div><ul class='xr-sections'><li class='xr-section-item'><input id='section-4becf9c8-5a39-4ee9-a1ad-67f8bdea60cc' class='xr-section-summary-in' type='checkbox' disabled ><label for='section-4becf9c8-5a39-4ee9-a1ad-67f8bdea60cc' class='xr-section-summary'  title='Expand/collapse section'>Dimensions:</label><div class='xr-section-inline-details'><ul class='xr-dim-list'><li><span class='xr-has-index'>rho_l</span>: 37</li><li><span class='xr-has-index'>xh</span>: 40</li><li><span class='xr-has-index'>yh</span>: 100</li><li><span class='xr-has-index'>yq</span>: 101</li><li><span class='xr-has-index'>zl</span>: 75</li></ul></div><div class='xr-section-details'></div></li><li class='xr-section-item'><input id='section-02a17e03-9803-4812-ac5c-68082f257f6e' class='xr-section-summary-in' type='checkbox'  checked><label for='section-02a17e03-9803-4812-ac5c-68082f257f6e' class='xr-section-summary' >Coordinates: <span>(5)</span></label><div class='xr-section-inline-details'></div><div class='xr-section-details'><ul class='xr-var-list'><li class='xr-var-item'><div class='xr-var-name'><span class='xr-has-index'>yh</span></div><div class='xr-var-dims'>(yh)</div><div class='xr-var-dtype'>float64</div><div class='xr-var-preview xr-preview'>0.5 1.5 2.499 ... 69.33 69.68 70.02</div><input id='attrs-748bb72c-61d7-4413-a64e-a5396d070c9e' class='xr-var-attrs-in' type='checkbox' ><label for='attrs-748bb72c-61d7-4413-a64e-a5396d070c9e' title='Show/Hide attributes'><svg class='icon xr-icon-file-text2'><use xlink:href='#icon-file-text2'></use></svg></label><input id='data-6919d04e-36e8-43b2-a437-54d0af3bc21c' class='xr-var-data-in' type='checkbox'><label for='data-6919d04e-36e8-43b2-a437-54d0af3bc21c' title='Show/Hide data repr'><svg class='icon xr-icon-database'><use xlink:href='#icon-database'></use></svg></label><div class='xr-var-attrs'><dl class='xr-attrs'><dt><span>long_name :</span></dt><dd>h point nominal latitude</dd><dt><span>units :</span></dt><dd>degrees_north</dd><dt><span>cartesian_axis :</span></dt><dd>Y</dd></dl></div><pre class='xr-var-data'>array([ 0.499994,  1.499829,  2.499207,  3.497825,  4.495381,  5.491573,\n",
       "        6.486102,  7.478673,  8.468992,  9.456768, 10.441717, 11.423555,\n",
       "       12.402005, 13.376794, 14.347656, 15.314328, 16.276554, 17.234086,\n",
       "       18.186679, 19.134097, 20.076111, 21.012499, 21.943046, 22.867543,\n",
       "       23.785792, 24.6976  , 25.602783, 26.501165, 27.392579, 28.276863,\n",
       "       29.153867, 30.023446, 30.885465, 31.739795, 32.586318, 33.424921,\n",
       "       34.255501, 35.077962, 35.892215, 36.698179, 37.495781, 38.284954,\n",
       "       39.06564 , 39.837787, 40.601349, 41.356287, 42.10257 , 42.840171,\n",
       "       43.569071, 44.289255, 45.000716, 45.703451, 46.397463, 47.082758,\n",
       "       47.75935 , 48.427257, 49.086499, 49.737104, 50.379101, 51.012526,\n",
       "       51.637416, 52.253812, 52.86176 , 53.461309, 54.052509, 54.635415,\n",
       "       55.210083, 55.776573, 56.334947, 56.885268, 57.427604, 57.962021,\n",
       "       58.48859 , 59.007382, 59.51847 , 60.021928, 60.517832, 61.006259,\n",
       "       61.487287, 61.960993, 62.427458, 62.886762, 63.338986, 63.784212,\n",
       "       64.22252 , 64.653994, 65.078715, 65.496767, 65.908232, 66.313193,\n",
       "       66.711733, 67.103935, 67.489882, 67.869656, 68.243339, 68.611014,\n",
       "       68.972762, 69.328665, 69.678803, 70.023257])</pre></li><li class='xr-var-item'><div class='xr-var-name'><span class='xr-has-index'>xh</span></div><div class='xr-var-dims'>(xh)</div><div class='xr-var-dtype'>float64</div><div class='xr-var-preview xr-preview'>0.5 1.5 2.5 3.5 ... 37.5 38.5 39.5</div><input id='attrs-6303b552-335c-44f0-8e06-364b0ac9a6d7' class='xr-var-attrs-in' type='checkbox' ><label for='attrs-6303b552-335c-44f0-8e06-364b0ac9a6d7' title='Show/Hide attributes'><svg class='icon xr-icon-file-text2'><use xlink:href='#icon-file-text2'></use></svg></label><input id='data-c68cde7f-db08-4bfe-a88d-7074cb9a3271' class='xr-var-data-in' type='checkbox'><label for='data-c68cde7f-db08-4bfe-a88d-7074cb9a3271' title='Show/Hide data repr'><svg class='icon xr-icon-database'><use xlink:href='#icon-database'></use></svg></label><div class='xr-var-attrs'><dl class='xr-attrs'><dt><span>long_name :</span></dt><dd>h point nominal longitude</dd><dt><span>units :</span></dt><dd>degrees_east</dd><dt><span>cartesian_axis :</span></dt><dd>X</dd></dl></div><pre class='xr-var-data'>array([ 0.5,  1.5,  2.5,  3.5,  4.5,  5.5,  6.5,  7.5,  8.5,  9.5, 10.5, 11.5,\n",
       "       12.5, 13.5, 14.5, 15.5, 16.5, 17.5, 18.5, 19.5, 20.5, 21.5, 22.5, 23.5,\n",
       "       24.5, 25.5, 26.5, 27.5, 28.5, 29.5, 30.5, 31.5, 32.5, 33.5, 34.5, 35.5,\n",
       "       36.5, 37.5, 38.5, 39.5])</pre></li><li class='xr-var-item'><div class='xr-var-name'><span class='xr-has-index'>zl</span></div><div class='xr-var-dims'>(zl)</div><div class='xr-var-dtype'>float64</div><div class='xr-var-preview xr-preview'>1.0 3.0 5.0 ... 3.591e+03 3.861e+03</div><input id='attrs-fb0c3389-ef52-47ce-87dd-f92ab09e4ec4' class='xr-var-attrs-in' type='checkbox' ><label for='attrs-fb0c3389-ef52-47ce-87dd-f92ab09e4ec4' title='Show/Hide attributes'><svg class='icon xr-icon-file-text2'><use xlink:href='#icon-file-text2'></use></svg></label><input id='data-d91b103b-efe4-4f42-a60b-6f231b869c10' class='xr-var-data-in' type='checkbox'><label for='data-d91b103b-efe4-4f42-a60b-6f231b869c10' title='Show/Hide data repr'><svg class='icon xr-icon-database'><use xlink:href='#icon-database'></use></svg></label><div class='xr-var-attrs'><dl class='xr-attrs'><dt><span>long_name :</span></dt><dd>Layer pseudo-depth, -z*</dd><dt><span>units :</span></dt><dd>meter</dd><dt><span>cartesian_axis :</span></dt><dd>Z</dd><dt><span>positive :</span></dt><dd>down</dd></dl></div><pre class='xr-var-data'>array([1.000000e+00, 3.000000e+00, 5.000000e+00, 7.000000e+00, 9.000000e+00,\n",
       "       1.100000e+01, 1.300000e+01, 1.500500e+01, 1.701500e+01, 1.903000e+01,\n",
       "       2.105500e+01, 2.309500e+01, 2.516000e+01, 2.725500e+01, 2.938500e+01,\n",
       "       3.156500e+01, 3.381000e+01, 3.613500e+01, 3.856000e+01, 4.110500e+01,\n",
       "       4.379500e+01, 4.665500e+01, 4.971500e+01, 5.301500e+01, 5.660000e+01,\n",
       "       6.051500e+01, 6.480500e+01, 6.952500e+01, 7.474000e+01, 8.051500e+01,\n",
       "       8.692000e+01, 9.404000e+01, 1.019600e+02, 1.107700e+02, 1.205750e+02,\n",
       "       1.314850e+02, 1.436150e+02, 1.570950e+02, 1.720600e+02, 1.886550e+02,\n",
       "       2.070350e+02, 2.273650e+02, 2.498200e+02, 2.745850e+02, 3.018600e+02,\n",
       "       3.318550e+02, 3.647950e+02, 4.009150e+02, 4.404600e+02, 4.836900e+02,\n",
       "       5.308850e+02, 5.823350e+02, 6.383450e+02, 6.992400e+02, 7.653550e+02,\n",
       "       8.370400e+02, 9.146600e+02, 9.986050e+02, 1.089280e+03, 1.187105e+03,\n",
       "       1.292525e+03, 1.406000e+03, 1.528010e+03, 1.659050e+03, 1.799640e+03,\n",
       "       1.950325e+03, 2.111665e+03, 2.284245e+03, 2.468675e+03, 2.665585e+03,\n",
       "       2.875630e+03, 3.099485e+03, 3.337850e+03, 3.591460e+03, 3.861085e+03])</pre></li><li class='xr-var-item'><div class='xr-var-name'><span class='xr-has-index'>yq</span></div><div class='xr-var-dims'>(yq)</div><div class='xr-var-dtype'>float64</div><div class='xr-var-preview xr-preview'>0.0 0.9999 2.0 ... 69.5 69.85 70.19</div><input id='attrs-25cda666-152c-40c7-bfe0-e97fd30a4597' class='xr-var-attrs-in' type='checkbox' ><label for='attrs-25cda666-152c-40c7-bfe0-e97fd30a4597' title='Show/Hide attributes'><svg class='icon xr-icon-file-text2'><use xlink:href='#icon-file-text2'></use></svg></label><input id='data-6403f81e-298f-4e44-a730-6a1b46c13322' class='xr-var-data-in' type='checkbox'><label for='data-6403f81e-298f-4e44-a730-6a1b46c13322' title='Show/Hide data repr'><svg class='icon xr-icon-database'><use xlink:href='#icon-database'></use></svg></label><div class='xr-var-attrs'><dl class='xr-attrs'><dt><span>long_name :</span></dt><dd>q point nominal latitude</dd><dt><span>units :</span></dt><dd>degrees_north</dd><dt><span>cartesian_axis :</span></dt><dd>Y</dd></dl></div><pre class='xr-var-data'>array([ 0.      ,  0.999949,  1.999594,  2.99863 ,  3.996755,  4.993666,\n",
       "        5.989064,  6.982651,  7.974132,  8.963216,  9.949614, 10.933042,\n",
       "       11.91322 , 12.889874, 13.862732, 14.831531, 15.796012, 16.755922,\n",
       "       17.711014, 18.661049, 19.605794, 20.545022, 21.478516, 22.406063,\n",
       "       23.327461, 24.242512, 25.151031, 26.052835, 26.947753, 27.835622,\n",
       "       28.716284, 29.589593, 30.455408, 31.313598, 32.16404 , 33.006616,\n",
       "       33.84122 , 34.667752, 35.486119, 36.296238, 37.098029, 37.891425,\n",
       "       38.676362, 39.452784, 40.220644, 40.979898, 41.730512, 42.472457,\n",
       "       43.20571 , 43.930253, 44.646077, 45.353175, 46.051547, 46.741199,\n",
       "       47.422141, 48.094388, 48.757959, 49.412879, 50.059176, 50.696883,\n",
       "       51.326035, 51.946673, 52.558839, 53.162582, 53.757949, 54.344995,\n",
       "       54.923775, 55.494346, 56.056771, 56.61111 , 57.15743 , 57.695798,\n",
       "       58.226282, 58.748954, 59.263884, 59.771148, 60.27082 , 60.762976,\n",
       "       61.247693, 61.72505 , 62.195126, 62.658   , 63.113754, 63.562469,\n",
       "       64.004225, 64.439106, 64.867193, 65.288569, 65.703317, 66.11152 ,\n",
       "       66.51326 , 66.908621, 67.297685, 67.680535, 68.057254, 68.427923,\n",
       "       68.792624, 69.151439, 69.504449, 69.851735, 70.193377])</pre></li><li class='xr-var-item'><div class='xr-var-name'><span class='xr-has-index'>rho_l</span></div><div class='xr-var-dims'>(rho_l)</div><div class='xr-var-dtype'>float64</div><div class='xr-var-preview xr-preview'>1.03e+03 1.031e+03 ... 1.037e+03</div><input id='attrs-2277a15f-a132-4bb2-8928-5d8462744f64' class='xr-var-attrs-in' type='checkbox' ><label for='attrs-2277a15f-a132-4bb2-8928-5d8462744f64' title='Show/Hide attributes'><svg class='icon xr-icon-file-text2'><use xlink:href='#icon-file-text2'></use></svg></label><input id='data-44f1dbb4-6af6-4af1-bfb1-0d1a93f9ecaf' class='xr-var-data-in' type='checkbox'><label for='data-44f1dbb4-6af6-4af1-bfb1-0d1a93f9ecaf' title='Show/Hide data repr'><svg class='icon xr-icon-database'><use xlink:href='#icon-database'></use></svg></label><div class='xr-var-attrs'><dl class='xr-attrs'><dt><span>long_name :</span></dt><dd>Target Potential Density at cell center</dd><dt><span>units :</span></dt><dd>kg m-3</dd><dt><span>cartesian_axis :</span></dt><dd>Z</dd><dt><span>positive :</span></dt><dd>down</dd><dt><span>edges :</span></dt><dd>rho_i</dd></dl></div><pre class='xr-var-data'>array([1029.858 , 1031.0685, 1032.1125, 1032.8545, 1033.4145, 1033.8855,\n",
       "       1034.31  , 1034.6735, 1034.9645, 1035.2225, 1035.4575, 1035.6505,\n",
       "       1035.822 , 1035.974 , 1036.0925, 1036.1885, 1036.279 , 1036.356 ,\n",
       "       1036.419 , 1036.4785, 1036.5435, 1036.6045, 1036.6845, 1036.796 ,\n",
       "       1036.903 , 1036.992 , 1037.06  , 1037.1125, 1037.1545, 1037.189 ,\n",
       "       1037.22  , 1037.2485, 1037.2745, 1037.296 , 1037.3215, 1037.356 ,\n",
       "       1037.387 ])</pre></li></ul></div></li><li class='xr-section-item'><input id='section-47de9ed8-8222-4107-9429-0f4cb0f0e060' class='xr-section-summary-in' type='checkbox'  checked><label for='section-47de9ed8-8222-4107-9429-0f4cb0f0e060' class='xr-section-summary' >Data variables: <span>(10)</span></label><div class='xr-section-inline-details'></div><div class='xr-section-details'><ul class='xr-var-list'><li class='xr-var-item'><div class='xr-var-name'><span>mlotst</span></div><div class='xr-var-dims'>(yh, xh)</div><div class='xr-var-dtype'>float32</div><div class='xr-var-preview xr-preview'>dask.array&lt;chunksize=(100, 40), meta=np.ndarray&gt;</div><input id='attrs-680f6935-1c33-4e9e-a419-a1786ad70572' class='xr-var-attrs-in' type='checkbox' ><label for='attrs-680f6935-1c33-4e9e-a419-a1786ad70572' title='Show/Hide attributes'><svg class='icon xr-icon-file-text2'><use xlink:href='#icon-file-text2'></use></svg></label><input id='data-f87de64b-8fe6-42ae-a1c0-7e7e45c2db85' class='xr-var-data-in' type='checkbox'><label for='data-f87de64b-8fe6-42ae-a1c0-7e7e45c2db85' title='Show/Hide data repr'><svg class='icon xr-icon-database'><use xlink:href='#icon-database'></use></svg></label><div class='xr-var-attrs'><dl class='xr-attrs'><dt><span>long_name :</span></dt><dd>Time Averaged Ocean Mixed Layer Thickness Defined by Sigma T</dd><dt><span>units :</span></dt><dd>m</dd></dl></div><pre class='xr-var-data'><table>\n",
       "<tr>\n",
       "<td>\n",
       "<table>\n",
       "  <thead>\n",
       "    <tr><td> </td><th> Array </th><th> Chunk </th></tr>\n",
       "  </thead>\n",
       "  <tbody>\n",
       "    <tr><th> Bytes </th><td> 16.00 kB </td> <td> 16.00 kB </td></tr>\n",
       "    <tr><th> Shape </th><td> (100, 40) </td> <td> (100, 40) </td></tr>\n",
       "    <tr><th> Count </th><td> 4223 Tasks </td><td> 1 Chunks </td></tr>\n",
       "    <tr><th> Type </th><td> float32 </td><td> numpy.ndarray </td></tr>\n",
       "  </tbody>\n",
       "</table>\n",
       "</td>\n",
       "<td>\n",
       "<svg width=\"98\" height=\"170\" style=\"stroke:rgb(0,0,0);stroke-width:1\" >\n",
       "\n",
       "  <!-- Horizontal lines -->\n",
       "  <line x1=\"0\" y1=\"0\" x2=\"48\" y2=\"0\" style=\"stroke-width:2\" />\n",
       "  <line x1=\"0\" y1=\"120\" x2=\"48\" y2=\"120\" style=\"stroke-width:2\" />\n",
       "\n",
       "  <!-- Vertical lines -->\n",
       "  <line x1=\"0\" y1=\"0\" x2=\"0\" y2=\"120\" style=\"stroke-width:2\" />\n",
       "  <line x1=\"48\" y1=\"0\" x2=\"48\" y2=\"120\" style=\"stroke-width:2\" />\n",
       "\n",
       "  <!-- Colored Rectangle -->\n",
       "  <polygon points=\"0.000000,0.000000 48.000000,0.000000 48.000000,120.000000 0.000000,120.000000\" style=\"fill:#ECB172A0;stroke-width:0\"/>\n",
       "\n",
       "  <!-- Text -->\n",
       "  <text x=\"24.000000\" y=\"140.000000\" font-size=\"1.0rem\" font-weight=\"100\" text-anchor=\"middle\" >40</text>\n",
       "  <text x=\"68.000000\" y=\"60.000000\" font-size=\"1.0rem\" font-weight=\"100\" text-anchor=\"middle\" transform=\"rotate(-90,68.000000,60.000000)\">100</text>\n",
       "</svg>\n",
       "</td>\n",
       "</tr>\n",
       "</table></pre></li><li class='xr-var-item'><div class='xr-var-name'><span>heat_added</span></div><div class='xr-var-dims'>(yh, xh)</div><div class='xr-var-dtype'>float32</div><div class='xr-var-preview xr-preview'>dask.array&lt;chunksize=(100, 40), meta=np.ndarray&gt;</div><input id='attrs-8d5d1109-6bb4-43fe-a200-94d4de266148' class='xr-var-attrs-in' type='checkbox' ><label for='attrs-8d5d1109-6bb4-43fe-a200-94d4de266148' title='Show/Hide attributes'><svg class='icon xr-icon-file-text2'><use xlink:href='#icon-file-text2'></use></svg></label><input id='data-40acac14-3ab8-45e0-afe4-fa4f1646044e' class='xr-var-data-in' type='checkbox'><label for='data-40acac14-3ab8-45e0-afe4-fa4f1646044e' title='Show/Hide data repr'><svg class='icon xr-icon-database'><use xlink:href='#icon-database'></use></svg></label><div class='xr-var-attrs'><dl class='xr-attrs'><dt><span>long_name :</span></dt><dd>Time Averaged restoring surface heat flux into ocean</dd><dt><span>units :</span></dt><dd>W m-2</dd></dl></div><pre class='xr-var-data'><table>\n",
       "<tr>\n",
       "<td>\n",
       "<table>\n",
       "  <thead>\n",
       "    <tr><td> </td><th> Array </th><th> Chunk </th></tr>\n",
       "  </thead>\n",
       "  <tbody>\n",
       "    <tr><th> Bytes </th><td> 16.00 kB </td> <td> 16.00 kB </td></tr>\n",
       "    <tr><th> Shape </th><td> (100, 40) </td> <td> (100, 40) </td></tr>\n",
       "    <tr><th> Count </th><td> 4223 Tasks </td><td> 1 Chunks </td></tr>\n",
       "    <tr><th> Type </th><td> float32 </td><td> numpy.ndarray </td></tr>\n",
       "  </tbody>\n",
       "</table>\n",
       "</td>\n",
       "<td>\n",
       "<svg width=\"98\" height=\"170\" style=\"stroke:rgb(0,0,0);stroke-width:1\" >\n",
       "\n",
       "  <!-- Horizontal lines -->\n",
       "  <line x1=\"0\" y1=\"0\" x2=\"48\" y2=\"0\" style=\"stroke-width:2\" />\n",
       "  <line x1=\"0\" y1=\"120\" x2=\"48\" y2=\"120\" style=\"stroke-width:2\" />\n",
       "\n",
       "  <!-- Vertical lines -->\n",
       "  <line x1=\"0\" y1=\"0\" x2=\"0\" y2=\"120\" style=\"stroke-width:2\" />\n",
       "  <line x1=\"48\" y1=\"0\" x2=\"48\" y2=\"120\" style=\"stroke-width:2\" />\n",
       "\n",
       "  <!-- Colored Rectangle -->\n",
       "  <polygon points=\"0.000000,0.000000 48.000000,0.000000 48.000000,120.000000 0.000000,120.000000\" style=\"fill:#ECB172A0;stroke-width:0\"/>\n",
       "\n",
       "  <!-- Text -->\n",
       "  <text x=\"24.000000\" y=\"140.000000\" font-size=\"1.0rem\" font-weight=\"100\" text-anchor=\"middle\" >40</text>\n",
       "  <text x=\"68.000000\" y=\"60.000000\" font-size=\"1.0rem\" font-weight=\"100\" text-anchor=\"middle\" transform=\"rotate(-90,68.000000,60.000000)\">100</text>\n",
       "</svg>\n",
       "</td>\n",
       "</tr>\n",
       "</table></pre></li><li class='xr-var-item'><div class='xr-var-name'><span>SSH</span></div><div class='xr-var-dims'>(yh, xh)</div><div class='xr-var-dtype'>float32</div><div class='xr-var-preview xr-preview'>dask.array&lt;chunksize=(100, 40), meta=np.ndarray&gt;</div><input id='attrs-badd1b86-0c5c-4135-a7b8-68db3d6e4b98' class='xr-var-attrs-in' type='checkbox' ><label for='attrs-badd1b86-0c5c-4135-a7b8-68db3d6e4b98' title='Show/Hide attributes'><svg class='icon xr-icon-file-text2'><use xlink:href='#icon-file-text2'></use></svg></label><input id='data-629d631b-7a43-4a53-91e6-97eb890d46cd' class='xr-var-data-in' type='checkbox'><label for='data-629d631b-7a43-4a53-91e6-97eb890d46cd' title='Show/Hide data repr'><svg class='icon xr-icon-database'><use xlink:href='#icon-database'></use></svg></label><div class='xr-var-attrs'><dl class='xr-attrs'><dt><span>long_name :</span></dt><dd>Time Averaged Sea Surface Height</dd><dt><span>units :</span></dt><dd>m</dd></dl></div><pre class='xr-var-data'><table>\n",
       "<tr>\n",
       "<td>\n",
       "<table>\n",
       "  <thead>\n",
       "    <tr><td> </td><th> Array </th><th> Chunk </th></tr>\n",
       "  </thead>\n",
       "  <tbody>\n",
       "    <tr><th> Bytes </th><td> 16.00 kB </td> <td> 16.00 kB </td></tr>\n",
       "    <tr><th> Shape </th><td> (100, 40) </td> <td> (100, 40) </td></tr>\n",
       "    <tr><th> Count </th><td> 4223 Tasks </td><td> 1 Chunks </td></tr>\n",
       "    <tr><th> Type </th><td> float32 </td><td> numpy.ndarray </td></tr>\n",
       "  </tbody>\n",
       "</table>\n",
       "</td>\n",
       "<td>\n",
       "<svg width=\"98\" height=\"170\" style=\"stroke:rgb(0,0,0);stroke-width:1\" >\n",
       "\n",
       "  <!-- Horizontal lines -->\n",
       "  <line x1=\"0\" y1=\"0\" x2=\"48\" y2=\"0\" style=\"stroke-width:2\" />\n",
       "  <line x1=\"0\" y1=\"120\" x2=\"48\" y2=\"120\" style=\"stroke-width:2\" />\n",
       "\n",
       "  <!-- Vertical lines -->\n",
       "  <line x1=\"0\" y1=\"0\" x2=\"0\" y2=\"120\" style=\"stroke-width:2\" />\n",
       "  <line x1=\"48\" y1=\"0\" x2=\"48\" y2=\"120\" style=\"stroke-width:2\" />\n",
       "\n",
       "  <!-- Colored Rectangle -->\n",
       "  <polygon points=\"0.000000,0.000000 48.000000,0.000000 48.000000,120.000000 0.000000,120.000000\" style=\"fill:#ECB172A0;stroke-width:0\"/>\n",
       "\n",
       "  <!-- Text -->\n",
       "  <text x=\"24.000000\" y=\"140.000000\" font-size=\"1.0rem\" font-weight=\"100\" text-anchor=\"middle\" >40</text>\n",
       "  <text x=\"68.000000\" y=\"60.000000\" font-size=\"1.0rem\" font-weight=\"100\" text-anchor=\"middle\" transform=\"rotate(-90,68.000000,60.000000)\">100</text>\n",
       "</svg>\n",
       "</td>\n",
       "</tr>\n",
       "</table></pre></li><li class='xr-var-item'><div class='xr-var-name'><span>SST</span></div><div class='xr-var-dims'>(yh, xh)</div><div class='xr-var-dtype'>float32</div><div class='xr-var-preview xr-preview'>dask.array&lt;chunksize=(100, 40), meta=np.ndarray&gt;</div><input id='attrs-d663a37f-d332-4ef9-8582-8041c073e140' class='xr-var-attrs-in' type='checkbox' ><label for='attrs-d663a37f-d332-4ef9-8582-8041c073e140' title='Show/Hide attributes'><svg class='icon xr-icon-file-text2'><use xlink:href='#icon-file-text2'></use></svg></label><input id='data-40f823c3-021d-43d3-8876-fe932817ab3b' class='xr-var-data-in' type='checkbox'><label for='data-40f823c3-021d-43d3-8876-fe932817ab3b' title='Show/Hide data repr'><svg class='icon xr-icon-database'><use xlink:href='#icon-database'></use></svg></label><div class='xr-var-attrs'><dl class='xr-attrs'><dt><span>long_name :</span></dt><dd>Time Averaged Sea Surface Temperature</dd><dt><span>units :</span></dt><dd>degC</dd></dl></div><pre class='xr-var-data'><table>\n",
       "<tr>\n",
       "<td>\n",
       "<table>\n",
       "  <thead>\n",
       "    <tr><td> </td><th> Array </th><th> Chunk </th></tr>\n",
       "  </thead>\n",
       "  <tbody>\n",
       "    <tr><th> Bytes </th><td> 16.00 kB </td> <td> 16.00 kB </td></tr>\n",
       "    <tr><th> Shape </th><td> (100, 40) </td> <td> (100, 40) </td></tr>\n",
       "    <tr><th> Count </th><td> 5483 Tasks </td><td> 1 Chunks </td></tr>\n",
       "    <tr><th> Type </th><td> float32 </td><td> numpy.ndarray </td></tr>\n",
       "  </tbody>\n",
       "</table>\n",
       "</td>\n",
       "<td>\n",
       "<svg width=\"98\" height=\"170\" style=\"stroke:rgb(0,0,0);stroke-width:1\" >\n",
       "\n",
       "  <!-- Horizontal lines -->\n",
       "  <line x1=\"0\" y1=\"0\" x2=\"48\" y2=\"0\" style=\"stroke-width:2\" />\n",
       "  <line x1=\"0\" y1=\"120\" x2=\"48\" y2=\"120\" style=\"stroke-width:2\" />\n",
       "\n",
       "  <!-- Vertical lines -->\n",
       "  <line x1=\"0\" y1=\"0\" x2=\"0\" y2=\"120\" style=\"stroke-width:2\" />\n",
       "  <line x1=\"48\" y1=\"0\" x2=\"48\" y2=\"120\" style=\"stroke-width:2\" />\n",
       "\n",
       "  <!-- Colored Rectangle -->\n",
       "  <polygon points=\"0.000000,0.000000 48.000000,0.000000 48.000000,120.000000 0.000000,120.000000\" style=\"fill:#ECB172A0;stroke-width:0\"/>\n",
       "\n",
       "  <!-- Text -->\n",
       "  <text x=\"24.000000\" y=\"140.000000\" font-size=\"1.0rem\" font-weight=\"100\" text-anchor=\"middle\" >40</text>\n",
       "  <text x=\"68.000000\" y=\"60.000000\" font-size=\"1.0rem\" font-weight=\"100\" text-anchor=\"middle\" transform=\"rotate(-90,68.000000,60.000000)\">100</text>\n",
       "</svg>\n",
       "</td>\n",
       "</tr>\n",
       "</table></pre></li><li class='xr-var-item'><div class='xr-var-name'><span>temp_zonal_avge</span></div><div class='xr-var-dims'>(zl, yh)</div><div class='xr-var-dtype'>float32</div><div class='xr-var-preview xr-preview'>dask.array&lt;chunksize=(75, 100), meta=np.ndarray&gt;</div><input id='attrs-e56fda77-803d-481c-bd8d-1831c81b8fde' class='xr-var-attrs-in' type='checkbox' ><label for='attrs-e56fda77-803d-481c-bd8d-1831c81b8fde' title='Show/Hide attributes'><svg class='icon xr-icon-file-text2'><use xlink:href='#icon-file-text2'></use></svg></label><input id='data-b0675e70-cae1-4460-8633-053e42369223' class='xr-var-data-in' type='checkbox'><label for='data-b0675e70-cae1-4460-8633-053e42369223' title='Show/Hide data repr'><svg class='icon xr-icon-database'><use xlink:href='#icon-database'></use></svg></label><div class='xr-var-attrs'><dl class='xr-attrs'><dt><span>long_name :</span></dt><dd>Zonally Averaged Potential Temperature</dd><dt><span>units :</span></dt><dd>degC</dd></dl></div><pre class='xr-var-data'><table>\n",
       "<tr>\n",
       "<td>\n",
       "<table>\n",
       "  <thead>\n",
       "    <tr><td> </td><th> Array </th><th> Chunk </th></tr>\n",
       "  </thead>\n",
       "  <tbody>\n",
       "    <tr><th> Bytes </th><td> 30.00 kB </td> <td> 30.00 kB </td></tr>\n",
       "    <tr><th> Shape </th><td> (75, 100) </td> <td> (75, 100) </td></tr>\n",
       "    <tr><th> Count </th><td> 6743 Tasks </td><td> 1 Chunks </td></tr>\n",
       "    <tr><th> Type </th><td> float32 </td><td> numpy.ndarray </td></tr>\n",
       "  </tbody>\n",
       "</table>\n",
       "</td>\n",
       "<td>\n",
       "<svg width=\"170\" height=\"140\" style=\"stroke:rgb(0,0,0);stroke-width:1\" >\n",
       "\n",
       "  <!-- Horizontal lines -->\n",
       "  <line x1=\"0\" y1=\"0\" x2=\"120\" y2=\"0\" style=\"stroke-width:2\" />\n",
       "  <line x1=\"0\" y1=\"90\" x2=\"120\" y2=\"90\" style=\"stroke-width:2\" />\n",
       "\n",
       "  <!-- Vertical lines -->\n",
       "  <line x1=\"0\" y1=\"0\" x2=\"0\" y2=\"90\" style=\"stroke-width:2\" />\n",
       "  <line x1=\"120\" y1=\"0\" x2=\"120\" y2=\"90\" style=\"stroke-width:2\" />\n",
       "\n",
       "  <!-- Colored Rectangle -->\n",
       "  <polygon points=\"0.000000,0.000000 120.000000,0.000000 120.000000,90.000000 0.000000,90.000000\" style=\"fill:#ECB172A0;stroke-width:0\"/>\n",
       "\n",
       "  <!-- Text -->\n",
       "  <text x=\"60.000000\" y=\"110.000000\" font-size=\"1.0rem\" font-weight=\"100\" text-anchor=\"middle\" >100</text>\n",
       "  <text x=\"140.000000\" y=\"45.000000\" font-size=\"1.0rem\" font-weight=\"100\" text-anchor=\"middle\" transform=\"rotate(0,140.000000,45.000000)\">75</text>\n",
       "</svg>\n",
       "</td>\n",
       "</tr>\n",
       "</table></pre></li><li class='xr-var-item'><div class='xr-var-name'><span>barotropic_streamfunction</span></div><div class='xr-var-dims'>(yq, xh)</div><div class='xr-var-dtype'>float32</div><div class='xr-var-preview xr-preview'>dask.array&lt;chunksize=(101, 40), meta=np.ndarray&gt;</div><input id='attrs-3edecdc4-b967-4f95-ac0f-f610e306e88b' class='xr-var-attrs-in' type='checkbox' ><label for='attrs-3edecdc4-b967-4f95-ac0f-f610e306e88b' title='Show/Hide attributes'><svg class='icon xr-icon-file-text2'><use xlink:href='#icon-file-text2'></use></svg></label><input id='data-1b4be1eb-e152-4385-b583-f57756f12d54' class='xr-var-data-in' type='checkbox'><label for='data-1b4be1eb-e152-4385-b583-f57756f12d54' title='Show/Hide data repr'><svg class='icon xr-icon-database'><use xlink:href='#icon-database'></use></svg></label><div class='xr-var-attrs'><dl class='xr-attrs'><dt><span>long_name :</span></dt><dd>Time averaged barotropic streamfunction</dd><dt><span>units :</span></dt><dd>Sv</dd></dl></div><pre class='xr-var-data'><table>\n",
       "<tr>\n",
       "<td>\n",
       "<table>\n",
       "  <thead>\n",
       "    <tr><td> </td><th> Array </th><th> Chunk </th></tr>\n",
       "  </thead>\n",
       "  <tbody>\n",
       "    <tr><th> Bytes </th><td> 16.16 kB </td> <td> 16.16 kB </td></tr>\n",
       "    <tr><th> Shape </th><td> (101, 40) </td> <td> (101, 40) </td></tr>\n",
       "    <tr><th> Count </th><td> 5490 Tasks </td><td> 1 Chunks </td></tr>\n",
       "    <tr><th> Type </th><td> float32 </td><td> numpy.ndarray </td></tr>\n",
       "  </tbody>\n",
       "</table>\n",
       "</td>\n",
       "<td>\n",
       "<svg width=\"97\" height=\"170\" style=\"stroke:rgb(0,0,0);stroke-width:1\" >\n",
       "\n",
       "  <!-- Horizontal lines -->\n",
       "  <line x1=\"0\" y1=\"0\" x2=\"47\" y2=\"0\" style=\"stroke-width:2\" />\n",
       "  <line x1=\"0\" y1=\"120\" x2=\"47\" y2=\"120\" style=\"stroke-width:2\" />\n",
       "\n",
       "  <!-- Vertical lines -->\n",
       "  <line x1=\"0\" y1=\"0\" x2=\"0\" y2=\"120\" style=\"stroke-width:2\" />\n",
       "  <line x1=\"47\" y1=\"0\" x2=\"47\" y2=\"120\" style=\"stroke-width:2\" />\n",
       "\n",
       "  <!-- Colored Rectangle -->\n",
       "  <polygon points=\"0.000000,0.000000 47.524752,0.000000 47.524752,120.000000 0.000000,120.000000\" style=\"fill:#ECB172A0;stroke-width:0\"/>\n",
       "\n",
       "  <!-- Text -->\n",
       "  <text x=\"23.762376\" y=\"140.000000\" font-size=\"1.0rem\" font-weight=\"100\" text-anchor=\"middle\" >40</text>\n",
       "  <text x=\"67.524752\" y=\"60.000000\" font-size=\"1.0rem\" font-weight=\"100\" text-anchor=\"middle\" transform=\"rotate(-90,67.524752,60.000000)\">101</text>\n",
       "</svg>\n",
       "</td>\n",
       "</tr>\n",
       "</table></pre></li><li class='xr-var-item'><div class='xr-var-name'><span>residual_streamfunction</span></div><div class='xr-var-dims'>(rho_l, yq)</div><div class='xr-var-dtype'>float32</div><div class='xr-var-preview xr-preview'>dask.array&lt;chunksize=(37, 101), meta=np.ndarray&gt;</div><input id='attrs-205d4c0b-f73e-476c-a021-679da4d11c72' class='xr-var-attrs-in' type='checkbox' ><label for='attrs-205d4c0b-f73e-476c-a021-679da4d11c72' title='Show/Hide attributes'><svg class='icon xr-icon-file-text2'><use xlink:href='#icon-file-text2'></use></svg></label><input id='data-2bde0079-de98-4c97-b329-1f9ff8cd9afa' class='xr-var-data-in' type='checkbox'><label for='data-2bde0079-de98-4c97-b329-1f9ff8cd9afa' title='Show/Hide data repr'><svg class='icon xr-icon-database'><use xlink:href='#icon-database'></use></svg></label><div class='xr-var-attrs'><dl class='xr-attrs'><dt><span>long_name :</span></dt><dd>Residual streamfunction calculated in density space</dd><dt><span>units :</span></dt><dd>Sv</dd></dl></div><pre class='xr-var-data'><table>\n",
       "<tr>\n",
       "<td>\n",
       "<table>\n",
       "  <thead>\n",
       "    <tr><td> </td><th> Array </th><th> Chunk </th></tr>\n",
       "  </thead>\n",
       "  <tbody>\n",
       "    <tr><th> Bytes </th><td> 14.95 kB </td> <td> 14.95 kB </td></tr>\n",
       "    <tr><th> Shape </th><td> (37, 101) </td> <td> (37, 101) </td></tr>\n",
       "    <tr><th> Count </th><td> 5490 Tasks </td><td> 1 Chunks </td></tr>\n",
       "    <tr><th> Type </th><td> float32 </td><td> numpy.ndarray </td></tr>\n",
       "  </tbody>\n",
       "</table>\n",
       "</td>\n",
       "<td>\n",
       "<svg width=\"170\" height=\"94\" style=\"stroke:rgb(0,0,0);stroke-width:1\" >\n",
       "\n",
       "  <!-- Horizontal lines -->\n",
       "  <line x1=\"0\" y1=\"0\" x2=\"120\" y2=\"0\" style=\"stroke-width:2\" />\n",
       "  <line x1=\"0\" y1=\"44\" x2=\"120\" y2=\"44\" style=\"stroke-width:2\" />\n",
       "\n",
       "  <!-- Vertical lines -->\n",
       "  <line x1=\"0\" y1=\"0\" x2=\"0\" y2=\"44\" style=\"stroke-width:2\" />\n",
       "  <line x1=\"120\" y1=\"0\" x2=\"120\" y2=\"44\" style=\"stroke-width:2\" />\n",
       "\n",
       "  <!-- Colored Rectangle -->\n",
       "  <polygon points=\"0.000000,0.000000 120.000000,0.000000 120.000000,44.171860 0.000000,44.171860\" style=\"fill:#ECB172A0;stroke-width:0\"/>\n",
       "\n",
       "  <!-- Text -->\n",
       "  <text x=\"60.000000\" y=\"64.171860\" font-size=\"1.0rem\" font-weight=\"100\" text-anchor=\"middle\" >101</text>\n",
       "  <text x=\"140.000000\" y=\"22.085930\" font-size=\"1.0rem\" font-weight=\"100\" text-anchor=\"middle\" transform=\"rotate(0,140.000000,22.085930)\">37</text>\n",
       "</svg>\n",
       "</td>\n",
       "</tr>\n",
       "</table></pre></li><li class='xr-var-item'><div class='xr-var-name'><span>upper_ocean_streamfunction</span></div><div class='xr-var-dims'>(yq, xh)</div><div class='xr-var-dtype'>float32</div><div class='xr-var-preview xr-preview'>dask.array&lt;chunksize=(101, 40), meta=np.ndarray&gt;</div><input id='attrs-133f2ec7-9e3f-4475-958e-c4d73a0bd975' class='xr-var-attrs-in' type='checkbox' ><label for='attrs-133f2ec7-9e3f-4475-958e-c4d73a0bd975' title='Show/Hide attributes'><svg class='icon xr-icon-file-text2'><use xlink:href='#icon-file-text2'></use></svg></label><input id='data-fda917d8-72b3-4c86-b849-2b170e6c78eb' class='xr-var-data-in' type='checkbox'><label for='data-fda917d8-72b3-4c86-b849-2b170e6c78eb' title='Show/Hide data repr'><svg class='icon xr-icon-database'><use xlink:href='#icon-database'></use></svg></label><div class='xr-var-attrs'><dl class='xr-attrs'><dt><span>long_name :</span></dt><dd>Upper Ocean Streamfunction (above 1034 isopycnal)</dd><dt><span>units :</span></dt><dd>Sv</dd></dl></div><pre class='xr-var-data'><table>\n",
       "<tr>\n",
       "<td>\n",
       "<table>\n",
       "  <thead>\n",
       "    <tr><td> </td><th> Array </th><th> Chunk </th></tr>\n",
       "  </thead>\n",
       "  <tbody>\n",
       "    <tr><th> Bytes </th><td> 16.16 kB </td> <td> 16.16 kB </td></tr>\n",
       "    <tr><th> Shape </th><td> (101, 40) </td> <td> (101, 40) </td></tr>\n",
       "    <tr><th> Count </th><td> 5491 Tasks </td><td> 1 Chunks </td></tr>\n",
       "    <tr><th> Type </th><td> float32 </td><td> numpy.ndarray </td></tr>\n",
       "  </tbody>\n",
       "</table>\n",
       "</td>\n",
       "<td>\n",
       "<svg width=\"97\" height=\"170\" style=\"stroke:rgb(0,0,0);stroke-width:1\" >\n",
       "\n",
       "  <!-- Horizontal lines -->\n",
       "  <line x1=\"0\" y1=\"0\" x2=\"47\" y2=\"0\" style=\"stroke-width:2\" />\n",
       "  <line x1=\"0\" y1=\"120\" x2=\"47\" y2=\"120\" style=\"stroke-width:2\" />\n",
       "\n",
       "  <!-- Vertical lines -->\n",
       "  <line x1=\"0\" y1=\"0\" x2=\"0\" y2=\"120\" style=\"stroke-width:2\" />\n",
       "  <line x1=\"47\" y1=\"0\" x2=\"47\" y2=\"120\" style=\"stroke-width:2\" />\n",
       "\n",
       "  <!-- Colored Rectangle -->\n",
       "  <polygon points=\"0.000000,0.000000 47.524752,0.000000 47.524752,120.000000 0.000000,120.000000\" style=\"fill:#ECB172A0;stroke-width:0\"/>\n",
       "\n",
       "  <!-- Text -->\n",
       "  <text x=\"23.762376\" y=\"140.000000\" font-size=\"1.0rem\" font-weight=\"100\" text-anchor=\"middle\" >40</text>\n",
       "  <text x=\"67.524752\" y=\"60.000000\" font-size=\"1.0rem\" font-weight=\"100\" text-anchor=\"middle\" transform=\"rotate(-90,67.524752,60.000000)\">101</text>\n",
       "</svg>\n",
       "</td>\n",
       "</tr>\n",
       "</table></pre></li><li class='xr-var-item'><div class='xr-var-name'><span>lower_ocean_streamfunction</span></div><div class='xr-var-dims'>(yq, xh)</div><div class='xr-var-dtype'>float32</div><div class='xr-var-preview xr-preview'>dask.array&lt;chunksize=(101, 40), meta=np.ndarray&gt;</div><input id='attrs-c92d5208-c18b-429c-94c0-b23887a517b3' class='xr-var-attrs-in' type='checkbox' ><label for='attrs-c92d5208-c18b-429c-94c0-b23887a517b3' title='Show/Hide attributes'><svg class='icon xr-icon-file-text2'><use xlink:href='#icon-file-text2'></use></svg></label><input id='data-6eeab011-5932-4556-bb44-8c3f4fdd9876' class='xr-var-data-in' type='checkbox'><label for='data-6eeab011-5932-4556-bb44-8c3f4fdd9876' title='Show/Hide data repr'><svg class='icon xr-icon-database'><use xlink:href='#icon-database'></use></svg></label><div class='xr-var-attrs'><dl class='xr-attrs'><dt><span>long_name :</span></dt><dd>Lower Ocean Streamfunction (below 1034 isopycnal)</dd><dt><span>units :</span></dt><dd>Sv</dd></dl></div><pre class='xr-var-data'><table>\n",
       "<tr>\n",
       "<td>\n",
       "<table>\n",
       "  <thead>\n",
       "    <tr><td> </td><th> Array </th><th> Chunk </th></tr>\n",
       "  </thead>\n",
       "  <tbody>\n",
       "    <tr><th> Bytes </th><td> 16.16 kB </td> <td> 16.16 kB </td></tr>\n",
       "    <tr><th> Shape </th><td> (101, 40) </td> <td> (101, 40) </td></tr>\n",
       "    <tr><th> Count </th><td> 5491 Tasks </td><td> 1 Chunks </td></tr>\n",
       "    <tr><th> Type </th><td> float32 </td><td> numpy.ndarray </td></tr>\n",
       "  </tbody>\n",
       "</table>\n",
       "</td>\n",
       "<td>\n",
       "<svg width=\"97\" height=\"170\" style=\"stroke:rgb(0,0,0);stroke-width:1\" >\n",
       "\n",
       "  <!-- Horizontal lines -->\n",
       "  <line x1=\"0\" y1=\"0\" x2=\"47\" y2=\"0\" style=\"stroke-width:2\" />\n",
       "  <line x1=\"0\" y1=\"120\" x2=\"47\" y2=\"120\" style=\"stroke-width:2\" />\n",
       "\n",
       "  <!-- Vertical lines -->\n",
       "  <line x1=\"0\" y1=\"0\" x2=\"0\" y2=\"120\" style=\"stroke-width:2\" />\n",
       "  <line x1=\"47\" y1=\"0\" x2=\"47\" y2=\"120\" style=\"stroke-width:2\" />\n",
       "\n",
       "  <!-- Colored Rectangle -->\n",
       "  <polygon points=\"0.000000,0.000000 47.524752,0.000000 47.524752,120.000000 0.000000,120.000000\" style=\"fill:#ECB172A0;stroke-width:0\"/>\n",
       "\n",
       "  <!-- Text -->\n",
       "  <text x=\"23.762376\" y=\"140.000000\" font-size=\"1.0rem\" font-weight=\"100\" text-anchor=\"middle\" >40</text>\n",
       "  <text x=\"67.524752\" y=\"60.000000\" font-size=\"1.0rem\" font-weight=\"100\" text-anchor=\"middle\" transform=\"rotate(-90,67.524752,60.000000)\">101</text>\n",
       "</svg>\n",
       "</td>\n",
       "</tr>\n",
       "</table></pre></li><li class='xr-var-item'><div class='xr-var-name'><span>h_rho</span></div><div class='xr-var-dims'>(yh, xh)</div><div class='xr-var-dtype'>float32</div><div class='xr-var-preview xr-preview'>dask.array&lt;chunksize=(100, 40), meta=np.ndarray&gt;</div><input id='attrs-6e000f64-3c12-4dc1-a97c-2c0286117ef8' class='xr-var-attrs-in' type='checkbox' ><label for='attrs-6e000f64-3c12-4dc1-a97c-2c0286117ef8' title='Show/Hide attributes'><svg class='icon xr-icon-file-text2'><use xlink:href='#icon-file-text2'></use></svg></label><input id='data-c1044f8d-e88c-46cd-a423-2b192cf781b3' class='xr-var-data-in' type='checkbox'><label for='data-c1044f8d-e88c-46cd-a423-2b192cf781b3' title='Show/Hide data repr'><svg class='icon xr-icon-database'><use xlink:href='#icon-database'></use></svg></label><div class='xr-var-attrs'><dl class='xr-attrs'><dt><span>long_name :</span></dt><dd>Time average depth of 1034 ispycnal</dd><dt><span>units :</span></dt><dd>m</dd></dl></div><pre class='xr-var-data'><table>\n",
       "<tr>\n",
       "<td>\n",
       "<table>\n",
       "  <thead>\n",
       "    <tr><td> </td><th> Array </th><th> Chunk </th></tr>\n",
       "  </thead>\n",
       "  <tbody>\n",
       "    <tr><th> Bytes </th><td> 16.00 kB </td> <td> 16.00 kB </td></tr>\n",
       "    <tr><th> Shape </th><td> (100, 40) </td> <td> (100, 40) </td></tr>\n",
       "    <tr><th> Count </th><td> 4228 Tasks </td><td> 1 Chunks </td></tr>\n",
       "    <tr><th> Type </th><td> float32 </td><td> numpy.ndarray </td></tr>\n",
       "  </tbody>\n",
       "</table>\n",
       "</td>\n",
       "<td>\n",
       "<svg width=\"98\" height=\"170\" style=\"stroke:rgb(0,0,0);stroke-width:1\" >\n",
       "\n",
       "  <!-- Horizontal lines -->\n",
       "  <line x1=\"0\" y1=\"0\" x2=\"48\" y2=\"0\" style=\"stroke-width:2\" />\n",
       "  <line x1=\"0\" y1=\"120\" x2=\"48\" y2=\"120\" style=\"stroke-width:2\" />\n",
       "\n",
       "  <!-- Vertical lines -->\n",
       "  <line x1=\"0\" y1=\"0\" x2=\"0\" y2=\"120\" style=\"stroke-width:2\" />\n",
       "  <line x1=\"48\" y1=\"0\" x2=\"48\" y2=\"120\" style=\"stroke-width:2\" />\n",
       "\n",
       "  <!-- Colored Rectangle -->\n",
       "  <polygon points=\"0.000000,0.000000 48.000000,0.000000 48.000000,120.000000 0.000000,120.000000\" style=\"fill:#ECB172A0;stroke-width:0\"/>\n",
       "\n",
       "  <!-- Text -->\n",
       "  <text x=\"24.000000\" y=\"140.000000\" font-size=\"1.0rem\" font-weight=\"100\" text-anchor=\"middle\" >40</text>\n",
       "  <text x=\"68.000000\" y=\"60.000000\" font-size=\"1.0rem\" font-weight=\"100\" text-anchor=\"middle\" transform=\"rotate(-90,68.000000,60.000000)\">100</text>\n",
       "</svg>\n",
       "</td>\n",
       "</tr>\n",
       "</table></pre></li></ul></div></li><li class='xr-section-item'><input id='section-4c3b4d2e-b0ca-4cbf-858f-274f785fb594' class='xr-section-summary-in' type='checkbox' disabled ><label for='section-4c3b4d2e-b0ca-4cbf-858f-274f785fb594' class='xr-section-summary'  title='Expand/collapse section'>Attributes: <span>(0)</span></label><div class='xr-section-inline-details'></div><div class='xr-section-details'><dl class='xr-attrs'></dl></div></li></ul></div></div>"
      ],
      "text/plain": [
       "<xarray.Dataset>\n",
       "Dimensions:                     (rho_l: 37, xh: 40, yh: 100, yq: 101, zl: 75)\n",
       "Coordinates:\n",
       "  * yh                          (yh) float64 0.5 1.5 2.499 ... 69.33 69.68 70.02\n",
       "  * xh                          (xh) float64 0.5 1.5 2.5 3.5 ... 37.5 38.5 39.5\n",
       "  * zl                          (zl) float64 1.0 3.0 5.0 ... 3.591e+03 3.861e+03\n",
       "  * yq                          (yq) float64 0.0 0.9999 2.0 ... 69.5 69.85 70.19\n",
       "  * rho_l                       (rho_l) float64 1.03e+03 1.031e+03 ... 1.037e+03\n",
       "Data variables:\n",
       "    mlotst                      (yh, xh) float32 dask.array<chunksize=(100, 40), meta=np.ndarray>\n",
       "    heat_added                  (yh, xh) float32 dask.array<chunksize=(100, 40), meta=np.ndarray>\n",
       "    SSH                         (yh, xh) float32 dask.array<chunksize=(100, 40), meta=np.ndarray>\n",
       "    SST                         (yh, xh) float32 dask.array<chunksize=(100, 40), meta=np.ndarray>\n",
       "    temp_zonal_avge             (zl, yh) float32 dask.array<chunksize=(75, 100), meta=np.ndarray>\n",
       "    barotropic_streamfunction   (yq, xh) float32 dask.array<chunksize=(101, 40), meta=np.ndarray>\n",
       "    residual_streamfunction     (rho_l, yq) float32 dask.array<chunksize=(37, 101), meta=np.ndarray>\n",
       "    upper_ocean_streamfunction  (yq, xh) float32 dask.array<chunksize=(101, 40), meta=np.ndarray>\n",
       "    lower_ocean_streamfunction  (yq, xh) float32 dask.array<chunksize=(101, 40), meta=np.ndarray>\n",
       "    h_rho                       (yh, xh) float32 dask.array<chunksize=(100, 40), meta=np.ndarray>"
      ]
     },
     "execution_count": 87,
     "metadata": {},
     "output_type": "execute_result"
    }
   ],
   "source": [
    "combined_array"
   ]
  },
  {
   "cell_type": "markdown",
   "metadata": {},
   "source": [
    "## Timeseries"
   ]
  },
  {
   "cell_type": "code",
   "execution_count": 54,
   "metadata": {},
   "outputs": [
    {
     "name": "stdout",
     "output_type": "stream",
     "text": [
      "Done/g/data/v45/amh157/tub-north-processed/data//tub-north-tx01-fc00_timeseries.nc\n",
      "Done/g/data/v45/amh157/tub-north-processed/data//tub-north-tx01-fc005_timeseries.nc\n",
      "Done/g/data/v45/amh157/tub-north-processed/data//tub-north-tx01-fc01_timeseries.nc\n",
      "Done/g/data/v45/amh157/tub-north-processed/data//tub-north-tx01-fc03_timeseries.nc\n",
      "Done/g/data/v45/amh157/tub-north-processed/data//tub-north-tx00-fc02_timeseries.nc\n",
      "Done/g/data/v45/amh157/tub-north-processed/data//tub-north-tx00-fc02-pert_timeseries.nc\n",
      "Done/g/data/v45/amh157/tub-north-processed/data//tub-north-tx005-fc02_timeseries.nc\n",
      "Done/g/data/v45/amh157/tub-north-processed/data//tub-north-tx01-fc02_timeseries.nc\n",
      "Done/g/data/v45/amh157/tub-north-processed/data//tub-north-tx02-fc02_timeseries.nc\n"
     ]
    },
    {
     "ename": "PermissionError",
     "evalue": "[Errno 13] Permission denied: b'/g/data/v45/amh157/tub-north-processed/data/tub-north-GM-1deg_timeseries.nc'",
     "output_type": "error",
     "traceback": [
      "\u001b[0;31m---------------------------------------------------------------------------\u001b[0m",
      "\u001b[0;31mKeyError\u001b[0m                                  Traceback (most recent call last)",
      "\u001b[0;32m/g/data3/hh5/public/apps/miniconda3/envs/analysis3-20.01/lib/python3.7/site-packages/xarray/backends/file_manager.py\u001b[0m in \u001b[0;36m_acquire_with_cache_info\u001b[0;34m(self, needs_lock)\u001b[0m\n\u001b[1;32m    197\u001b[0m             \u001b[0;32mtry\u001b[0m\u001b[0;34m:\u001b[0m\u001b[0;34m\u001b[0m\u001b[0;34m\u001b[0m\u001b[0m\n\u001b[0;32m--> 198\u001b[0;31m                 \u001b[0mfile\u001b[0m \u001b[0;34m=\u001b[0m \u001b[0mself\u001b[0m\u001b[0;34m.\u001b[0m\u001b[0m_cache\u001b[0m\u001b[0;34m[\u001b[0m\u001b[0mself\u001b[0m\u001b[0;34m.\u001b[0m\u001b[0m_key\u001b[0m\u001b[0;34m]\u001b[0m\u001b[0;34m\u001b[0m\u001b[0;34m\u001b[0m\u001b[0m\n\u001b[0m\u001b[1;32m    199\u001b[0m             \u001b[0;32mexcept\u001b[0m \u001b[0mKeyError\u001b[0m\u001b[0;34m:\u001b[0m\u001b[0;34m\u001b[0m\u001b[0;34m\u001b[0m\u001b[0m\n",
      "\u001b[0;32m/g/data3/hh5/public/apps/miniconda3/envs/analysis3-20.01/lib/python3.7/site-packages/xarray/backends/lru_cache.py\u001b[0m in \u001b[0;36m__getitem__\u001b[0;34m(self, key)\u001b[0m\n\u001b[1;32m     52\u001b[0m         \u001b[0;32mwith\u001b[0m \u001b[0mself\u001b[0m\u001b[0;34m.\u001b[0m\u001b[0m_lock\u001b[0m\u001b[0;34m:\u001b[0m\u001b[0;34m\u001b[0m\u001b[0;34m\u001b[0m\u001b[0m\n\u001b[0;32m---> 53\u001b[0;31m             \u001b[0mvalue\u001b[0m \u001b[0;34m=\u001b[0m \u001b[0mself\u001b[0m\u001b[0;34m.\u001b[0m\u001b[0m_cache\u001b[0m\u001b[0;34m[\u001b[0m\u001b[0mkey\u001b[0m\u001b[0;34m]\u001b[0m\u001b[0;34m\u001b[0m\u001b[0;34m\u001b[0m\u001b[0m\n\u001b[0m\u001b[1;32m     54\u001b[0m             \u001b[0mself\u001b[0m\u001b[0;34m.\u001b[0m\u001b[0m_cache\u001b[0m\u001b[0;34m.\u001b[0m\u001b[0mmove_to_end\u001b[0m\u001b[0;34m(\u001b[0m\u001b[0mkey\u001b[0m\u001b[0;34m)\u001b[0m\u001b[0;34m\u001b[0m\u001b[0;34m\u001b[0m\u001b[0m\n",
      "\u001b[0;31mKeyError\u001b[0m: [<class 'netCDF4._netCDF4.Dataset'>, ('/g/data/v45/amh157/tub-north-processed/data/tub-north-GM-1deg_timeseries.nc',), 'a', (('clobber', True), ('diskless', False), ('format', 'NETCDF4'), ('persist', False))]",
      "\nDuring handling of the above exception, another exception occurred:\n",
      "\u001b[0;31mPermissionError\u001b[0m                           Traceback (most recent call last)",
      "\u001b[0;32m<ipython-input-54-a77166456f2f>\u001b[0m in \u001b[0;36m<module>\u001b[0;34m\u001b[0m\n\u001b[1;32m     66\u001b[0m     \u001b[0mcombined_array\u001b[0m \u001b[0;34m=\u001b[0m \u001b[0mxr\u001b[0m\u001b[0;34m.\u001b[0m\u001b[0mmerge\u001b[0m\u001b[0;34m(\u001b[0m\u001b[0;34m[\u001b[0m\u001b[0mMLD\u001b[0m\u001b[0;34m,\u001b[0m \u001b[0mHF_north\u001b[0m\u001b[0;34m,\u001b[0m \u001b[0mHF_south\u001b[0m\u001b[0;34m,\u001b[0m \u001b[0mSSH_north\u001b[0m\u001b[0;34m,\u001b[0m \u001b[0mSSH_south\u001b[0m\u001b[0;34m,\u001b[0m \u001b[0mpsi_baro_north\u001b[0m\u001b[0;34m,\u001b[0m \u001b[0mpsi_baro_south\u001b[0m\u001b[0;34m,\u001b[0m \u001b[0mpsi_overturning\u001b[0m\u001b[0;34m,\u001b[0m \u001b[0mpsi_upper\u001b[0m\u001b[0;34m,\u001b[0m \u001b[0mpsi_lower\u001b[0m\u001b[0;34m]\u001b[0m\u001b[0;34m)\u001b[0m\u001b[0;34m\u001b[0m\u001b[0;34m\u001b[0m\u001b[0m\n\u001b[1;32m     67\u001b[0m     \u001b[0mFileName\u001b[0m \u001b[0;34m=\u001b[0m \u001b[0mprocessed\u001b[0m\u001b[0;34m+\u001b[0m\u001b[0;34m'/'\u001b[0m\u001b[0;34m+\u001b[0m\u001b[0mexpt\u001b[0m\u001b[0;34m+\u001b[0m\u001b[0;34m'_timeseries.nc'\u001b[0m\u001b[0;34m\u001b[0m\u001b[0;34m\u001b[0m\u001b[0m\n\u001b[0;32m---> 68\u001b[0;31m     \u001b[0mcombined_array\u001b[0m\u001b[0;34m.\u001b[0m\u001b[0mto_netcdf\u001b[0m\u001b[0;34m(\u001b[0m\u001b[0mFileName\u001b[0m\u001b[0;34m)\u001b[0m\u001b[0;34m\u001b[0m\u001b[0;34m\u001b[0m\u001b[0m\n\u001b[0m\u001b[1;32m     69\u001b[0m     \u001b[0mprint\u001b[0m\u001b[0;34m(\u001b[0m\u001b[0;34m'Done'\u001b[0m\u001b[0;34m+\u001b[0m\u001b[0mFileName\u001b[0m\u001b[0;34m)\u001b[0m\u001b[0;34m\u001b[0m\u001b[0;34m\u001b[0m\u001b[0m\n\u001b[1;32m     70\u001b[0m \u001b[0;34m\u001b[0m\u001b[0m\n",
      "\u001b[0;32m/g/data3/hh5/public/apps/miniconda3/envs/analysis3-20.01/lib/python3.7/site-packages/xarray/core/dataset.py\u001b[0m in \u001b[0;36mto_netcdf\u001b[0;34m(self, path, mode, format, group, engine, encoding, unlimited_dims, compute, invalid_netcdf)\u001b[0m\n\u001b[1;32m   1552\u001b[0m             \u001b[0munlimited_dims\u001b[0m\u001b[0;34m=\u001b[0m\u001b[0munlimited_dims\u001b[0m\u001b[0;34m,\u001b[0m\u001b[0;34m\u001b[0m\u001b[0;34m\u001b[0m\u001b[0m\n\u001b[1;32m   1553\u001b[0m             \u001b[0mcompute\u001b[0m\u001b[0;34m=\u001b[0m\u001b[0mcompute\u001b[0m\u001b[0;34m,\u001b[0m\u001b[0;34m\u001b[0m\u001b[0;34m\u001b[0m\u001b[0m\n\u001b[0;32m-> 1554\u001b[0;31m             \u001b[0minvalid_netcdf\u001b[0m\u001b[0;34m=\u001b[0m\u001b[0minvalid_netcdf\u001b[0m\u001b[0;34m,\u001b[0m\u001b[0;34m\u001b[0m\u001b[0;34m\u001b[0m\u001b[0m\n\u001b[0m\u001b[1;32m   1555\u001b[0m         )\n\u001b[1;32m   1556\u001b[0m \u001b[0;34m\u001b[0m\u001b[0m\n",
      "\u001b[0;32m/g/data3/hh5/public/apps/miniconda3/envs/analysis3-20.01/lib/python3.7/site-packages/xarray/backends/api.py\u001b[0m in \u001b[0;36mto_netcdf\u001b[0;34m(dataset, path_or_file, mode, format, group, engine, encoding, unlimited_dims, compute, multifile, invalid_netcdf)\u001b[0m\n\u001b[1;32m   1069\u001b[0m                 \u001b[0;34m\"unrecognized option 'invalid_netcdf' for engine %s\"\u001b[0m \u001b[0;34m%\u001b[0m \u001b[0mengine\u001b[0m\u001b[0;34m\u001b[0m\u001b[0;34m\u001b[0m\u001b[0m\n\u001b[1;32m   1070\u001b[0m             )\n\u001b[0;32m-> 1071\u001b[0;31m     \u001b[0mstore\u001b[0m \u001b[0;34m=\u001b[0m \u001b[0mstore_open\u001b[0m\u001b[0;34m(\u001b[0m\u001b[0mtarget\u001b[0m\u001b[0;34m,\u001b[0m \u001b[0mmode\u001b[0m\u001b[0;34m,\u001b[0m \u001b[0mformat\u001b[0m\u001b[0;34m,\u001b[0m \u001b[0mgroup\u001b[0m\u001b[0;34m,\u001b[0m \u001b[0;34m**\u001b[0m\u001b[0mkwargs\u001b[0m\u001b[0;34m)\u001b[0m\u001b[0;34m\u001b[0m\u001b[0;34m\u001b[0m\u001b[0m\n\u001b[0m\u001b[1;32m   1072\u001b[0m \u001b[0;34m\u001b[0m\u001b[0m\n\u001b[1;32m   1073\u001b[0m     \u001b[0;32mif\u001b[0m \u001b[0munlimited_dims\u001b[0m \u001b[0;32mis\u001b[0m \u001b[0;32mNone\u001b[0m\u001b[0;34m:\u001b[0m\u001b[0;34m\u001b[0m\u001b[0;34m\u001b[0m\u001b[0m\n",
      "\u001b[0;32m/g/data3/hh5/public/apps/miniconda3/envs/analysis3-20.01/lib/python3.7/site-packages/xarray/backends/netCDF4_.py\u001b[0m in \u001b[0;36mopen\u001b[0;34m(cls, filename, mode, format, group, clobber, diskless, persist, lock, lock_maker, autoclose)\u001b[0m\n\u001b[1;32m    356\u001b[0m             \u001b[0mnetCDF4\u001b[0m\u001b[0;34m.\u001b[0m\u001b[0mDataset\u001b[0m\u001b[0;34m,\u001b[0m \u001b[0mfilename\u001b[0m\u001b[0;34m,\u001b[0m \u001b[0mmode\u001b[0m\u001b[0;34m=\u001b[0m\u001b[0mmode\u001b[0m\u001b[0;34m,\u001b[0m \u001b[0mkwargs\u001b[0m\u001b[0;34m=\u001b[0m\u001b[0mkwargs\u001b[0m\u001b[0;34m\u001b[0m\u001b[0;34m\u001b[0m\u001b[0m\n\u001b[1;32m    357\u001b[0m         )\n\u001b[0;32m--> 358\u001b[0;31m         \u001b[0;32mreturn\u001b[0m \u001b[0mcls\u001b[0m\u001b[0;34m(\u001b[0m\u001b[0mmanager\u001b[0m\u001b[0;34m,\u001b[0m \u001b[0mgroup\u001b[0m\u001b[0;34m=\u001b[0m\u001b[0mgroup\u001b[0m\u001b[0;34m,\u001b[0m \u001b[0mmode\u001b[0m\u001b[0;34m=\u001b[0m\u001b[0mmode\u001b[0m\u001b[0;34m,\u001b[0m \u001b[0mlock\u001b[0m\u001b[0;34m=\u001b[0m\u001b[0mlock\u001b[0m\u001b[0;34m,\u001b[0m \u001b[0mautoclose\u001b[0m\u001b[0;34m=\u001b[0m\u001b[0mautoclose\u001b[0m\u001b[0;34m)\u001b[0m\u001b[0;34m\u001b[0m\u001b[0;34m\u001b[0m\u001b[0m\n\u001b[0m\u001b[1;32m    359\u001b[0m \u001b[0;34m\u001b[0m\u001b[0m\n\u001b[1;32m    360\u001b[0m     \u001b[0;32mdef\u001b[0m \u001b[0m_acquire\u001b[0m\u001b[0;34m(\u001b[0m\u001b[0mself\u001b[0m\u001b[0;34m,\u001b[0m \u001b[0mneeds_lock\u001b[0m\u001b[0;34m=\u001b[0m\u001b[0;32mTrue\u001b[0m\u001b[0;34m)\u001b[0m\u001b[0;34m:\u001b[0m\u001b[0;34m\u001b[0m\u001b[0;34m\u001b[0m\u001b[0m\n",
      "\u001b[0;32m/g/data3/hh5/public/apps/miniconda3/envs/analysis3-20.01/lib/python3.7/site-packages/xarray/backends/netCDF4_.py\u001b[0m in \u001b[0;36m__init__\u001b[0;34m(self, manager, group, mode, lock, autoclose)\u001b[0m\n\u001b[1;32m    312\u001b[0m         \u001b[0mself\u001b[0m\u001b[0;34m.\u001b[0m\u001b[0m_group\u001b[0m \u001b[0;34m=\u001b[0m \u001b[0mgroup\u001b[0m\u001b[0;34m\u001b[0m\u001b[0;34m\u001b[0m\u001b[0m\n\u001b[1;32m    313\u001b[0m         \u001b[0mself\u001b[0m\u001b[0;34m.\u001b[0m\u001b[0m_mode\u001b[0m \u001b[0;34m=\u001b[0m \u001b[0mmode\u001b[0m\u001b[0;34m\u001b[0m\u001b[0;34m\u001b[0m\u001b[0m\n\u001b[0;32m--> 314\u001b[0;31m         \u001b[0mself\u001b[0m\u001b[0;34m.\u001b[0m\u001b[0mformat\u001b[0m \u001b[0;34m=\u001b[0m \u001b[0mself\u001b[0m\u001b[0;34m.\u001b[0m\u001b[0mds\u001b[0m\u001b[0;34m.\u001b[0m\u001b[0mdata_model\u001b[0m\u001b[0;34m\u001b[0m\u001b[0;34m\u001b[0m\u001b[0m\n\u001b[0m\u001b[1;32m    315\u001b[0m         \u001b[0mself\u001b[0m\u001b[0;34m.\u001b[0m\u001b[0m_filename\u001b[0m \u001b[0;34m=\u001b[0m \u001b[0mself\u001b[0m\u001b[0;34m.\u001b[0m\u001b[0mds\u001b[0m\u001b[0;34m.\u001b[0m\u001b[0mfilepath\u001b[0m\u001b[0;34m(\u001b[0m\u001b[0;34m)\u001b[0m\u001b[0;34m\u001b[0m\u001b[0;34m\u001b[0m\u001b[0m\n\u001b[1;32m    316\u001b[0m         \u001b[0mself\u001b[0m\u001b[0;34m.\u001b[0m\u001b[0mis_remote\u001b[0m \u001b[0;34m=\u001b[0m \u001b[0mis_remote_uri\u001b[0m\u001b[0;34m(\u001b[0m\u001b[0mself\u001b[0m\u001b[0;34m.\u001b[0m\u001b[0m_filename\u001b[0m\u001b[0;34m)\u001b[0m\u001b[0;34m\u001b[0m\u001b[0;34m\u001b[0m\u001b[0m\n",
      "\u001b[0;32m/g/data3/hh5/public/apps/miniconda3/envs/analysis3-20.01/lib/python3.7/site-packages/xarray/backends/netCDF4_.py\u001b[0m in \u001b[0;36mds\u001b[0;34m(self)\u001b[0m\n\u001b[1;32m    365\u001b[0m     \u001b[0;34m@\u001b[0m\u001b[0mproperty\u001b[0m\u001b[0;34m\u001b[0m\u001b[0;34m\u001b[0m\u001b[0m\n\u001b[1;32m    366\u001b[0m     \u001b[0;32mdef\u001b[0m \u001b[0mds\u001b[0m\u001b[0;34m(\u001b[0m\u001b[0mself\u001b[0m\u001b[0;34m)\u001b[0m\u001b[0;34m:\u001b[0m\u001b[0;34m\u001b[0m\u001b[0;34m\u001b[0m\u001b[0m\n\u001b[0;32m--> 367\u001b[0;31m         \u001b[0;32mreturn\u001b[0m \u001b[0mself\u001b[0m\u001b[0;34m.\u001b[0m\u001b[0m_acquire\u001b[0m\u001b[0;34m(\u001b[0m\u001b[0;34m)\u001b[0m\u001b[0;34m\u001b[0m\u001b[0;34m\u001b[0m\u001b[0m\n\u001b[0m\u001b[1;32m    368\u001b[0m \u001b[0;34m\u001b[0m\u001b[0m\n\u001b[1;32m    369\u001b[0m     \u001b[0;32mdef\u001b[0m \u001b[0mopen_store_variable\u001b[0m\u001b[0;34m(\u001b[0m\u001b[0mself\u001b[0m\u001b[0;34m,\u001b[0m \u001b[0mname\u001b[0m\u001b[0;34m,\u001b[0m \u001b[0mvar\u001b[0m\u001b[0;34m)\u001b[0m\u001b[0;34m:\u001b[0m\u001b[0;34m\u001b[0m\u001b[0;34m\u001b[0m\u001b[0m\n",
      "\u001b[0;32m/g/data3/hh5/public/apps/miniconda3/envs/analysis3-20.01/lib/python3.7/site-packages/xarray/backends/netCDF4_.py\u001b[0m in \u001b[0;36m_acquire\u001b[0;34m(self, needs_lock)\u001b[0m\n\u001b[1;32m    359\u001b[0m \u001b[0;34m\u001b[0m\u001b[0m\n\u001b[1;32m    360\u001b[0m     \u001b[0;32mdef\u001b[0m \u001b[0m_acquire\u001b[0m\u001b[0;34m(\u001b[0m\u001b[0mself\u001b[0m\u001b[0;34m,\u001b[0m \u001b[0mneeds_lock\u001b[0m\u001b[0;34m=\u001b[0m\u001b[0;32mTrue\u001b[0m\u001b[0;34m)\u001b[0m\u001b[0;34m:\u001b[0m\u001b[0;34m\u001b[0m\u001b[0;34m\u001b[0m\u001b[0m\n\u001b[0;32m--> 361\u001b[0;31m         \u001b[0;32mwith\u001b[0m \u001b[0mself\u001b[0m\u001b[0;34m.\u001b[0m\u001b[0m_manager\u001b[0m\u001b[0;34m.\u001b[0m\u001b[0macquire_context\u001b[0m\u001b[0;34m(\u001b[0m\u001b[0mneeds_lock\u001b[0m\u001b[0;34m)\u001b[0m \u001b[0;32mas\u001b[0m \u001b[0mroot\u001b[0m\u001b[0;34m:\u001b[0m\u001b[0;34m\u001b[0m\u001b[0;34m\u001b[0m\u001b[0m\n\u001b[0m\u001b[1;32m    362\u001b[0m             \u001b[0mds\u001b[0m \u001b[0;34m=\u001b[0m \u001b[0m_nc4_require_group\u001b[0m\u001b[0;34m(\u001b[0m\u001b[0mroot\u001b[0m\u001b[0;34m,\u001b[0m \u001b[0mself\u001b[0m\u001b[0;34m.\u001b[0m\u001b[0m_group\u001b[0m\u001b[0;34m,\u001b[0m \u001b[0mself\u001b[0m\u001b[0;34m.\u001b[0m\u001b[0m_mode\u001b[0m\u001b[0;34m)\u001b[0m\u001b[0;34m\u001b[0m\u001b[0;34m\u001b[0m\u001b[0m\n\u001b[1;32m    363\u001b[0m         \u001b[0;32mreturn\u001b[0m \u001b[0mds\u001b[0m\u001b[0;34m\u001b[0m\u001b[0;34m\u001b[0m\u001b[0m\n",
      "\u001b[0;32m/g/data3/hh5/public/apps/miniconda3/envs/analysis3-20.01/lib/python3.7/contextlib.py\u001b[0m in \u001b[0;36m__enter__\u001b[0;34m(self)\u001b[0m\n\u001b[1;32m    110\u001b[0m         \u001b[0;32mdel\u001b[0m \u001b[0mself\u001b[0m\u001b[0;34m.\u001b[0m\u001b[0margs\u001b[0m\u001b[0;34m,\u001b[0m \u001b[0mself\u001b[0m\u001b[0;34m.\u001b[0m\u001b[0mkwds\u001b[0m\u001b[0;34m,\u001b[0m \u001b[0mself\u001b[0m\u001b[0;34m.\u001b[0m\u001b[0mfunc\u001b[0m\u001b[0;34m\u001b[0m\u001b[0;34m\u001b[0m\u001b[0m\n\u001b[1;32m    111\u001b[0m         \u001b[0;32mtry\u001b[0m\u001b[0;34m:\u001b[0m\u001b[0;34m\u001b[0m\u001b[0;34m\u001b[0m\u001b[0m\n\u001b[0;32m--> 112\u001b[0;31m             \u001b[0;32mreturn\u001b[0m \u001b[0mnext\u001b[0m\u001b[0;34m(\u001b[0m\u001b[0mself\u001b[0m\u001b[0;34m.\u001b[0m\u001b[0mgen\u001b[0m\u001b[0;34m)\u001b[0m\u001b[0;34m\u001b[0m\u001b[0;34m\u001b[0m\u001b[0m\n\u001b[0m\u001b[1;32m    113\u001b[0m         \u001b[0;32mexcept\u001b[0m \u001b[0mStopIteration\u001b[0m\u001b[0;34m:\u001b[0m\u001b[0;34m\u001b[0m\u001b[0;34m\u001b[0m\u001b[0m\n\u001b[1;32m    114\u001b[0m             \u001b[0;32mraise\u001b[0m \u001b[0mRuntimeError\u001b[0m\u001b[0;34m(\u001b[0m\u001b[0;34m\"generator didn't yield\"\u001b[0m\u001b[0;34m)\u001b[0m \u001b[0;32mfrom\u001b[0m \u001b[0;32mNone\u001b[0m\u001b[0;34m\u001b[0m\u001b[0;34m\u001b[0m\u001b[0m\n",
      "\u001b[0;32m/g/data3/hh5/public/apps/miniconda3/envs/analysis3-20.01/lib/python3.7/site-packages/xarray/backends/file_manager.py\u001b[0m in \u001b[0;36macquire_context\u001b[0;34m(self, needs_lock)\u001b[0m\n\u001b[1;32m    184\u001b[0m     \u001b[0;32mdef\u001b[0m \u001b[0macquire_context\u001b[0m\u001b[0;34m(\u001b[0m\u001b[0mself\u001b[0m\u001b[0;34m,\u001b[0m \u001b[0mneeds_lock\u001b[0m\u001b[0;34m=\u001b[0m\u001b[0;32mTrue\u001b[0m\u001b[0;34m)\u001b[0m\u001b[0;34m:\u001b[0m\u001b[0;34m\u001b[0m\u001b[0;34m\u001b[0m\u001b[0m\n\u001b[1;32m    185\u001b[0m         \u001b[0;34m\"\"\"Context manager for acquiring a file.\"\"\"\u001b[0m\u001b[0;34m\u001b[0m\u001b[0;34m\u001b[0m\u001b[0m\n\u001b[0;32m--> 186\u001b[0;31m         \u001b[0mfile\u001b[0m\u001b[0;34m,\u001b[0m \u001b[0mcached\u001b[0m \u001b[0;34m=\u001b[0m \u001b[0mself\u001b[0m\u001b[0;34m.\u001b[0m\u001b[0m_acquire_with_cache_info\u001b[0m\u001b[0;34m(\u001b[0m\u001b[0mneeds_lock\u001b[0m\u001b[0;34m)\u001b[0m\u001b[0;34m\u001b[0m\u001b[0;34m\u001b[0m\u001b[0m\n\u001b[0m\u001b[1;32m    187\u001b[0m         \u001b[0;32mtry\u001b[0m\u001b[0;34m:\u001b[0m\u001b[0;34m\u001b[0m\u001b[0;34m\u001b[0m\u001b[0m\n\u001b[1;32m    188\u001b[0m             \u001b[0;32myield\u001b[0m \u001b[0mfile\u001b[0m\u001b[0;34m\u001b[0m\u001b[0;34m\u001b[0m\u001b[0m\n",
      "\u001b[0;32m/g/data3/hh5/public/apps/miniconda3/envs/analysis3-20.01/lib/python3.7/site-packages/xarray/backends/file_manager.py\u001b[0m in \u001b[0;36m_acquire_with_cache_info\u001b[0;34m(self, needs_lock)\u001b[0m\n\u001b[1;32m    202\u001b[0m                     \u001b[0mkwargs\u001b[0m \u001b[0;34m=\u001b[0m \u001b[0mkwargs\u001b[0m\u001b[0;34m.\u001b[0m\u001b[0mcopy\u001b[0m\u001b[0;34m(\u001b[0m\u001b[0;34m)\u001b[0m\u001b[0;34m\u001b[0m\u001b[0;34m\u001b[0m\u001b[0m\n\u001b[1;32m    203\u001b[0m                     \u001b[0mkwargs\u001b[0m\u001b[0;34m[\u001b[0m\u001b[0;34m\"mode\"\u001b[0m\u001b[0;34m]\u001b[0m \u001b[0;34m=\u001b[0m \u001b[0mself\u001b[0m\u001b[0;34m.\u001b[0m\u001b[0m_mode\u001b[0m\u001b[0;34m\u001b[0m\u001b[0;34m\u001b[0m\u001b[0m\n\u001b[0;32m--> 204\u001b[0;31m                 \u001b[0mfile\u001b[0m \u001b[0;34m=\u001b[0m \u001b[0mself\u001b[0m\u001b[0;34m.\u001b[0m\u001b[0m_opener\u001b[0m\u001b[0;34m(\u001b[0m\u001b[0;34m*\u001b[0m\u001b[0mself\u001b[0m\u001b[0;34m.\u001b[0m\u001b[0m_args\u001b[0m\u001b[0;34m,\u001b[0m \u001b[0;34m**\u001b[0m\u001b[0mkwargs\u001b[0m\u001b[0;34m)\u001b[0m\u001b[0;34m\u001b[0m\u001b[0;34m\u001b[0m\u001b[0m\n\u001b[0m\u001b[1;32m    205\u001b[0m                 \u001b[0;32mif\u001b[0m \u001b[0mself\u001b[0m\u001b[0;34m.\u001b[0m\u001b[0m_mode\u001b[0m \u001b[0;34m==\u001b[0m \u001b[0;34m\"w\"\u001b[0m\u001b[0;34m:\u001b[0m\u001b[0;34m\u001b[0m\u001b[0;34m\u001b[0m\u001b[0m\n\u001b[1;32m    206\u001b[0m                     \u001b[0;31m# ensure file doesn't get overriden when opened again\u001b[0m\u001b[0;34m\u001b[0m\u001b[0;34m\u001b[0m\u001b[0;34m\u001b[0m\u001b[0m\n",
      "\u001b[0;32mnetCDF4/_netCDF4.pyx\u001b[0m in \u001b[0;36mnetCDF4._netCDF4.Dataset.__init__\u001b[0;34m()\u001b[0m\n",
      "\u001b[0;32mnetCDF4/_netCDF4.pyx\u001b[0m in \u001b[0;36mnetCDF4._netCDF4._ensure_nc_success\u001b[0;34m()\u001b[0m\n",
      "\u001b[0;31mPermissionError\u001b[0m: [Errno 13] Permission denied: b'/g/data/v45/amh157/tub-north-processed/data/tub-north-GM-1deg_timeseries.nc'"
     ]
    }
   ],
   "source": [
    "for ekey in exptdict.keys():\n",
    "    expt = exptdict[ekey]['expt']\n",
    "    start_time='0600-01-01'\n",
    "    \n",
    "    variable = 'mlotst'\n",
    "    # Timeseries of mean MLD north of 55N\n",
    "    darray = cc.querying.getvar(expt, variable, session, start_time=start_time)\n",
    "    MLD = darray.resample(Time='A').mean('Time').mean('xh').sel(yh=slice(55,None)).mean('yh')\n",
    "    MLD.attrs['long_name'] = 'Mean Ocean Mixed Layer Thickness north of 55N'\n",
    "    MLD.attrs['units'] = darray.attrs['units']\n",
    "    \n",
    "    variable = 'heat_added'\n",
    "    #######################\n",
    "    darray = cc.querying.getvar(expt, variable, session, start_time=start_time)\n",
    "    HF_north = darray.resample(Time='A').mean('Time').mean('xh').sel(yh=slice(50,None)).mean('yh')\n",
    "    HF_north.name = 'heat_added_north'\n",
    "    HF_north.attrs['long_name'] = 'Mean restoring surface heat flux into ocean north of 50N'\n",
    "    HF_north.attrs['units'] = darray.attrs['units']\n",
    "    HF_south = darray.resample(Time='A').mean('Time').mean('xh').sel(yh=slice(10,30)).mean('yh')\n",
    "    HF_south.name = 'heat_added_south'\n",
    "    HF_south.attrs['long_name'] = 'Mean restoring surface heat flux into ocean south of 30N'\n",
    "    HF_south.attrs['units'] = darray.attrs['units']\n",
    "    \n",
    "    variable = 'SSH'\n",
    "    ################\n",
    "    darray = cc.querying.getvar(expt, variable, session, start_time=start_time)\n",
    "    SSH_north = darray.resample(Time='A').mean('Time').mean('xh').sel(yh=slice(50,None)).mean('yh')\n",
    "    SSH_north.name = 'SSH_north'\n",
    "    SSH_north.attrs['long_name'] = 'Mean Sea Surface Height north of 50N'\n",
    "    SSH_north.attrs['units'] = darray.attrs['units']\n",
    "    SSH_south = darray.resample(Time='A').mean('Time').mean('xh').sel(yh=slice(10,30)).mean('yh')\n",
    "    SSH_south.name = 'SSH_south'\n",
    "    SSH_south.attrs['long_name'] = 'Mean Sea Surface Height south of 30N'\n",
    "    SSH_south.attrs['units'] = darray.attrs['units']\n",
    "    \n",
    "    variable = 'vh_rho'\n",
    "    ###################\n",
    "    darray = cc.querying.getvar(expt, variable, session, start_time=start_time)/1e6\n",
    "    darray.attrs['units'] = 'Sv'\n",
    "    \n",
    "    psi_barotropic = darray.resample(Time='A').mean('Time').sum('rho_l').sel(yq=slice(20,70)).cumsum('xh').sel(xh=10,method='nearest').drop('xh')\n",
    "    psi_baro_north = psi_barotropic.min(dim='yq')\n",
    "    psi_baro_north.name = 'psi_baro_north'\n",
    "    psi_baro_north.attrs['long_name'] = 'Minimum Barotropic Streamfunction'\n",
    "    psi_baro_north.attrs['units'] = darray.attrs['units']\n",
    "    psi_baro_south = psi_barotropic.min(dim='yq')\n",
    "    psi_baro_south.name = 'psi_baro_south'\n",
    "    psi_baro_south.attrs['long_name'] = 'Maximum Barotropic Streamfunction'\n",
    "    psi_baro_south.attrs['units'] = darray.attrs['units']\n",
    "    \n",
    "    psi_overturning = darray.resample(Time='A').mean('Time').sel(yq=slice(20,30)).mean('yq').sum('xh').cumsum('rho_l').sel(rho_l=slice(1034,None)).max(dim='rho_l')\n",
    "    psi_overturning.name = 'max_residual_streamfunction'\n",
    "    psi_overturning.attrs['long_name'] = 'Maximum Residual Overturning Streamfunction (20-30N)'\n",
    "    psi_overturning.attrs['units'] = darray.attrs['units']\n",
    "    \n",
    "    psi_upper = darray.resample(Time='A').mean('Time').sel(rho_l=slice(None,1034)).sum('rho_l').cumsum('xh').sel(xh=10,method='nearest').drop('xh').max(dim='yq')\n",
    "    psi_upper.name = 'upper_ocean_streamfunction'\n",
    "    psi_upper.attrs['long_name'] = 'Maximum Upper Ocean Streamfunction (above 1034 isopycnal)'\n",
    "    psi_upper.attrs['units'] = darray.attrs['units']\n",
    "    \n",
    "    psi_lower = darray.resample(Time='A').mean('Time').sel(rho_l=slice(1034,None)).sum('rho_l').cumsum('xh').sel(xh=10,method='nearest').drop('xh').min(dim='yq')\n",
    "    psi_lower.name = 'lower_ocean_streamfunction'\n",
    "    psi_lower.attrs['long_name'] = 'Minimum Lower Ocean Streamfunction (below 1034 isopycnal)'\n",
    "    psi_lower.attrs['units'] = darray.attrs['units']\n",
    "        \n",
    "    combined_array = xr.merge([MLD, HF_north, HF_south, SSH_north, SSH_south, psi_baro_north, psi_baro_south, psi_overturning, psi_upper, psi_lower])\n",
    "    FileName = processed+'/'+expt+'_timeseries.nc'\n",
    "    combined_array.to_netcdf(FileName)\n",
    "    print('Done'+FileName)\n",
    "\n",
    "print('Done All ....')"
   ]
  },
  {
   "cell_type": "code",
   "execution_count": null,
   "metadata": {},
   "outputs": [],
   "source": [
    "combined_array"
   ]
  },
  {
   "cell_type": "code",
   "execution_count": null,
   "metadata": {},
   "outputs": [],
   "source": []
  }
 ],
 "metadata": {
  "kernelspec": {
   "display_name": "Python [conda env:analysis3-20.01] *",
   "language": "python",
   "name": "conda-env-analysis3-20.01-py"
  },
  "language_info": {
   "codemirror_mode": {
    "name": "ipython",
    "version": 3
   },
   "file_extension": ".py",
   "mimetype": "text/x-python",
   "name": "python",
   "nbconvert_exporter": "python",
   "pygments_lexer": "ipython3",
   "version": "3.7.6"
  }
 },
 "nbformat": 4,
 "nbformat_minor": 4
}
