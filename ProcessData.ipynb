{
 "cells": [
  {
   "cell_type": "markdown",
   "metadata": {},
   "source": [
    "# Processing `tub-north` simulations\n",
    "\n",
    "This notebook contains routines to process and reduce data for the `tub-north` simulations. \n",
    "\n",
    "For analysis and plots showing this data, see `RuntimeAnalysis.ipynb`."
   ]
  },
  {
   "cell_type": "code",
   "execution_count": 1,
   "metadata": {},
   "outputs": [],
   "source": [
    "%matplotlib inline\n",
    "\n",
    "import cosima_cookbook as cc\n",
    "import matplotlib.pyplot as plt\n",
    "import numpy as np\n",
    "import netCDF4 as nc\n",
    "import xarray as xr\n",
    "import cmocean as cm\n",
    "from collections import OrderedDict\n",
    "import cftime\n",
    "import glob\n",
    "\n",
    "import logging\n",
    "logging.captureWarnings(True)\n",
    "logging.getLogger('py.warnings').setLevel(logging.ERROR)\n",
    "\n",
    "from dask.distributed import Client"
   ]
  },
  {
   "cell_type": "code",
   "execution_count": 2,
   "metadata": {},
   "outputs": [
    {
     "data": {
      "text/html": [
       "<table style=\"border: 2px solid white;\">\n",
       "<tr>\n",
       "<td style=\"vertical-align: top; border: 0px solid white\">\n",
       "<h3 style=\"text-align: left;\">Client</h3>\n",
       "<ul style=\"text-align: left; list-style: none; margin: 0; padding: 0;\">\n",
       "  <li><b>Scheduler: </b>tcp://10.0.64.18:8786</li>\n",
       "  <li><b>Dashboard: </b><a href='http://10.0.64.18:8787/status' target='_blank'>http://10.0.64.18:8787/status</a>\n",
       "</ul>\n",
       "</td>\n",
       "<td style=\"vertical-align: top; border: 0px solid white\">\n",
       "<h3 style=\"text-align: left;\">Cluster</h3>\n",
       "<ul style=\"text-align: left; list-style:none; margin: 0; padding: 0;\">\n",
       "  <li><b>Workers: </b>6</li>\n",
       "  <li><b>Cores: </b>6</li>\n",
       "  <li><b>Memory: </b>24.00 GB</li>\n",
       "</ul>\n",
       "</td>\n",
       "</tr>\n",
       "</table>"
      ],
      "text/plain": [
       "<Client: 'tcp://10.0.64.18:8786' processes=6 threads=6, memory=24.00 GB>"
      ]
     },
     "execution_count": 2,
     "metadata": {},
     "output_type": "execute_result"
    }
   ],
   "source": [
    "#client = Client(n_workers=4)\n",
    "# >> dask-scheduler\n",
    "# >> dask-worker tcp://10.0.64.18:8786 --memory-limit 4e9 --nprocs 6 --nthreads 1 --local-directory /local/g40/amh157\n",
    "client = Client('tcp://10.0.64.18:8786', local_dir='/local/g40/amh157')\n",
    "client"
   ]
  },
  {
   "cell_type": "code",
   "execution_count": 3,
   "metadata": {},
   "outputs": [],
   "source": [
    "db='/home/157/amh157/tub-north/tub-north.db'\n",
    "exptdict = OrderedDict([\n",
    "    ('tx01-fc00',   {'expt':'tub-north-tx01-fc00','start_time':'1100-01-01'}),\n",
    "    ('tx01-fc005',   {'expt':'tub-north-tx01-fc005','start_time':'1100-01-01'}),\n",
    "    ('tx01-fc01',   {'expt':'tub-north-tx01-fc01','start_time':'1100-01-01'}),\n",
    "    ('tx01-fc03',   {'expt':'tub-north-tx01-fc03','start_time':'1100-01-01'}),\n",
    "    ('tx00-fc02',   {'expt':'tub-north-tx00-fc02','start_time':'1100-01-01'}),\n",
    "    ('tx00-fc02-pert',   {'expt':'tub-north-tx00-fc02-pert','start_time':'1100-01-01'}),\n",
    "    ('tx005-fc02',   {'expt':'tub-north-tx005-fc02','start_time':'1100-01-01'}),\n",
    "    ('tx01-fc02',   {'expt':'tub-north-tx01-fc02','start_time':'1100-01-01'}),\n",
    "    ('tx02-fc02',   {'expt':'tub-north-tx02-fc02','start_time':'1100-01-01'}),\n",
    "    ('GM',   {'expt':'tub-north-GM','start_time':'1100-01-01'})\n",
    "])\n",
    "processed = '/g/data/v45/amh157/tub-north-processed/'"
   ]
  },
  {
   "cell_type": "markdown",
   "metadata": {},
   "source": [
    "## Database\n",
    "Update the database here."
   ]
  },
  {
   "cell_type": "code",
   "execution_count": 4,
   "metadata": {},
   "outputs": [],
   "source": [
    "session = cc.database.create_session(db)"
   ]
  },
  {
   "cell_type": "code",
   "execution_count": 6,
   "metadata": {
    "scrolled": false
   },
   "outputs": [
    {
     "name": "stdout",
     "output_type": "stream",
     "text": [
      "Indexing experiment: tub-north-tx01-fc03\n"
     ]
    },
    {
     "name": "stderr",
     "output_type": "stream",
     "text": [
      "0it [00:00, ?it/s]\n"
     ]
    },
    {
     "name": "stdout",
     "output_type": "stream",
     "text": [
      "Indexing experiment: tub-north-tx01-fc02\n"
     ]
    },
    {
     "name": "stderr",
     "output_type": "stream",
     "text": [
      "0it [00:00, ?it/s]\n",
      "0it [00:00, ?it/s]\n"
     ]
    },
    {
     "name": "stdout",
     "output_type": "stream",
     "text": [
      "Indexing experiment: tide_test_v3\n",
      "Indexing experiment: tub-north-tx00-fc02\n"
     ]
    },
    {
     "name": "stderr",
     "output_type": "stream",
     "text": [
      "0it [00:00, ?it/s]\n"
     ]
    },
    {
     "name": "stdout",
     "output_type": "stream",
     "text": [
      "Indexing experiment: tub-north-tx02-fc02\n"
     ]
    },
    {
     "name": "stderr",
     "output_type": "stream",
     "text": [
      "0it [00:00, ?it/s]\n"
     ]
    },
    {
     "name": "stdout",
     "output_type": "stream",
     "text": [
      "Indexing experiment: tub-north-tx01-fc005\n"
     ]
    },
    {
     "name": "stderr",
     "output_type": "stream",
     "text": [
      "0it [00:00, ?it/s]\n"
     ]
    },
    {
     "name": "stdout",
     "output_type": "stream",
     "text": [
      "Indexing experiment: tub-north-GM\n"
     ]
    },
    {
     "name": "stderr",
     "output_type": "stream",
     "text": [
      "0it [00:00, ?it/s]\n"
     ]
    },
    {
     "name": "stdout",
     "output_type": "stream",
     "text": [
      "Indexing experiment: tub-north-tx00-fc05\n"
     ]
    },
    {
     "name": "stderr",
     "output_type": "stream",
     "text": [
      "0it [00:00, ?it/s]\n"
     ]
    },
    {
     "name": "stdout",
     "output_type": "stream",
     "text": [
      "Indexing experiment: tub-north-tx01-fc00\n"
     ]
    },
    {
     "name": "stderr",
     "output_type": "stream",
     "text": [
      "0it [00:00, ?it/s]\n",
      "0it [00:00, ?it/s]\n"
     ]
    },
    {
     "name": "stdout",
     "output_type": "stream",
     "text": [
      "Indexing experiment: tide_test_v2\n",
      "Indexing experiment: tub-north-ref\n"
     ]
    },
    {
     "name": "stderr",
     "output_type": "stream",
     "text": [
      "0it [00:00, ?it/s]\n"
     ]
    },
    {
     "name": "stdout",
     "output_type": "stream",
     "text": [
      "Indexing experiment: tub-north-tx01-fc01\n"
     ]
    },
    {
     "name": "stderr",
     "output_type": "stream",
     "text": [
      "0it [00:00, ?it/s]\n",
      "0it [00:00, ?it/s]\n"
     ]
    },
    {
     "name": "stdout",
     "output_type": "stream",
     "text": [
      "Indexing experiment: tide_test\n",
      "Indexing experiment: tub-north-tx00-fc02-pert\n"
     ]
    },
    {
     "name": "stderr",
     "output_type": "stream",
     "text": [
      "0it [00:00, ?it/s]\n"
     ]
    },
    {
     "name": "stdout",
     "output_type": "stream",
     "text": [
      "Indexing experiment: tub-north-tx005-fc02\n"
     ]
    },
    {
     "name": "stderr",
     "output_type": "stream",
     "text": [
      "0it [00:00, ?it/s]\n"
     ]
    },
    {
     "data": {
      "text/plain": [
       "0"
      ]
     },
     "execution_count": 6,
     "metadata": {},
     "output_type": "execute_result"
    }
   ],
   "source": [
    "cc.database.build_index(glob.glob('/g/data/v45/amh157/mom6/archive/*'),session,update=True)"
   ]
  },
  {
   "cell_type": "markdown",
   "metadata": {},
   "source": [
    "## Experiments and Start Time\n",
    "We have 3 experiments so far. Starting diagnostics from year `start_time`."
   ]
  },
  {
   "cell_type": "code",
   "execution_count": 7,
   "metadata": {},
   "outputs": [
    {
     "name": "stdout",
     "output_type": "stream",
     "text": [
      "tub-north-tx01-fc00 : - Goes from year  1006.0  to year  1206.0\n",
      "          - start_time =  1100-01-01\n",
      "  \n",
      "tub-north-tx01-fc005 : - Goes from year  1006.0  to year  1206.0\n",
      "          - start_time =  1100-01-01\n",
      "  \n",
      "tub-north-tx01-fc01 : - Goes from year  1006.0  to year  1206.0\n",
      "          - start_time =  1100-01-01\n",
      "  \n",
      "tub-north-tx01-fc03 : - Goes from year  1006.0  to year  1206.0\n",
      "          - start_time =  1100-01-01\n",
      "  \n",
      "tub-north-tx00-fc02 : - Goes from year  0.0  to year  1206.0\n",
      "          - start_time =  1100-01-01\n",
      "  \n",
      "tub-north-tx00-fc02-pert : - Goes from year  1006.0  to year  1206.0\n",
      "          - start_time =  1100-01-01\n",
      "  \n",
      "tub-north-tx005-fc02 : - Goes from year  1006.0  to year  1206.0\n",
      "          - start_time =  1100-01-01\n",
      "  \n",
      "tub-north-tx01-fc02 : - Goes from year  110.0  to year  1206.0\n",
      "          - start_time =  1100-01-01\n",
      "  \n",
      "tub-north-tx02-fc02 : - Goes from year  1006.0  to year  1206.0\n",
      "          - start_time =  1100-01-01\n",
      "  \n",
      "tub-north-GM : - Goes from year  1006.0  to year  1206.0\n",
      "          - start_time =  1100-01-01\n",
      "  \n"
     ]
    }
   ],
   "source": [
    "for ekey in exptdict.keys():\n",
    "    expt = exptdict[ekey]['expt']\n",
    "    start_time = exptdict[ekey]['start_time']\n",
    "    darray = cc.querying.getvar(expt, 'taux', session).Time\n",
    "    start_year = cftime.date2num(darray[0],units='days since 0001-01-01',calendar='julian')/365\n",
    "    end_year = cftime.date2num(darray[-1],units='days since 0001-01-01',calendar='julian')/365\n",
    "    print(expt,': - Goes from year ',start_year.round(),' to year ', end_year.round())\n",
    "    print('          - start_time = ',start_time)\n",
    "    print('  ')"
   ]
  },
  {
   "cell_type": "markdown",
   "metadata": {},
   "source": [
    "## Spinup Diagnostics\n",
    "The aim for these runs is to get heat and age stable, and then to branch off perturbations."
   ]
  },
  {
   "cell_type": "code",
   "execution_count": 8,
   "metadata": {},
   "outputs": [
    {
     "data": {
      "text/plain": [
       "Text(0.5,0,'Time (years)')"
      ]
     },
     "execution_count": 8,
     "metadata": {},
     "output_type": "execute_result"
    },
    {
     "data": {
      "image/png": "[encoded data removed]",
      "text/plain": [
       "<Figure size 864x648 with 4 Axes>"
      ]
     },
     "metadata": {
      "needs_background": "light"
     },
     "output_type": "display_data"
    }
   ],
   "source": [
    "## Spinups\n",
    "fig, ax = plt.subplots(2,2,figsize=(12,9))\n",
    "\n",
    "for ekey in exptdict.keys():\n",
    "    expt = exptdict[ekey]['expt']\n",
    "    darray = xr.open_mfdataset('/g/data/v45/amh157/mom6/archive/'+expt+'/output*/ocean.stats.nc',decode_times=False).Heat\n",
    "    darray.coords['Time'] = darray.coords['Time']/365\n",
    "    darray.plot(ax=ax[0,0], label=expt)\n",
    "\n",
    "    darray = xr.open_mfdataset('/g/data/v45/amh157/mom6/archive/'+expt+'/output*/ocean.stats.nc',decode_times=False).age\n",
    "    darray.coords['Time'] = darray.coords['Time']/365\n",
    "    darray.plot(ax=ax[0,1],label=expt)\n",
    "    \n",
    "    darray = xr.open_mfdataset('/g/data/v45/amh157/mom6/archive/'+expt+'/output*/ocean.stats.nc',decode_times=False).KE\n",
    "    darray.coords['Time'] = darray.coords['Time']/365\n",
    "    darray.sum('Layer').plot(ax=ax[1,0],label=expt)\n",
    "    \n",
    "    darray = xr.open_mfdataset('/g/data/v45/amh157/mom6/archive/'+expt+'/output*/ocean.stats.nc',decode_times=False).APE\n",
    "    darray.coords['Time'] = darray.coords['Time']/365\n",
    "    darray.sum('Interface').plot(ax=ax[1,1], label=expt)\n",
    "    \n",
    "ax[0,0].set_title('Heat')\n",
    "ax[0,0].legend()\n",
    "ax[0,0].set_xlabel('')\n",
    "ax[0,0].set_xlim(xmin=1000)\n",
    "ax[1,0].set_xlim(xmin=1000)\n",
    "ax[0,1].set_xlim(xmin=1000)\n",
    "ax[1,1].set_xlim(xmin=1000)\n",
    "\n",
    "ax[0,1].set_title('Age')\n",
    "ax[0,1].set_xlabel('')\n",
    "ax[1,0].set_title('Kinetic Energy')\n",
    "ax[1,0].set_xlabel('Time (years)')\n",
    "ax[1,1].set_title('Available Potential Energy')\n",
    "ax[1,1].set_xlabel('Time (years)')"
   ]
  },
  {
   "cell_type": "markdown",
   "metadata": {},
   "source": [
    "## Mixed Layer Depth"
   ]
  },
  {
   "cell_type": "code",
   "execution_count": 10,
   "metadata": {},
   "outputs": [
    {
     "name": "stdout",
     "output_type": "stream",
     "text": [
      "Done/g/data/v45/amh157/tub-north-processed/tub-north-tx01-fc00/mlotst_averaged.nc\n",
      "Done/g/data/v45/amh157/tub-north-processed/tub-north-tx01-fc005/mlotst_averaged.nc\n",
      "Done/g/data/v45/amh157/tub-north-processed/tub-north-tx01-fc01/mlotst_averaged.nc\n",
      "Done/g/data/v45/amh157/tub-north-processed/tub-north-tx01-fc03/mlotst_averaged.nc\n",
      "Done/g/data/v45/amh157/tub-north-processed/tub-north-tx00-fc02/mlotst_averaged.nc\n",
      "Done/g/data/v45/amh157/tub-north-processed/tub-north-tx00-fc02-pert/mlotst_averaged.nc\n",
      "Done/g/data/v45/amh157/tub-north-processed/tub-north-tx005-fc02/mlotst_averaged.nc\n",
      "Done/g/data/v45/amh157/tub-north-processed/tub-north-tx01-fc02/mlotst_averaged.nc\n",
      "Done/g/data/v45/amh157/tub-north-processed/tub-north-tx02-fc02/mlotst_averaged.nc\n",
      "Done/g/data/v45/amh157/tub-north-processed/tub-north-GM/mlotst_averaged.nc\n"
     ]
    }
   ],
   "source": [
    "variable = 'mlotst'\n",
    "for ekey in exptdict.keys():\n",
    "    expt = exptdict[ekey]['expt']\n",
    "    start_time = exptdict[ekey]['start_time']\n",
    "    darray = cc.querying.getvar(expt, variable, session, start_time=start_time )\n",
    "    MLD = darray.mean('Time')\n",
    "    FileName = processed+expt+'/'+variable+'_averaged.nc'\n",
    "    MLD.to_netcdf(FileName)\n",
    "    print('Done'+FileName)"
   ]
  },
  {
   "cell_type": "code",
   "execution_count": 17,
   "metadata": {},
   "outputs": [
    {
     "name": "stdout",
     "output_type": "stream",
     "text": [
      "Done/g/data/v45/amh157/tub-north-processed/tub-north-tx01-fc00/mlotst_timeseries.nc\n",
      "Done/g/data/v45/amh157/tub-north-processed/tub-north-tx01-fc005/mlotst_timeseries.nc\n",
      "Done/g/data/v45/amh157/tub-north-processed/tub-north-tx01-fc01/mlotst_timeseries.nc\n",
      "Done/g/data/v45/amh157/tub-north-processed/tub-north-tx01-fc03/mlotst_timeseries.nc\n",
      "Done/g/data/v45/amh157/tub-north-processed/tub-north-tx00-fc02/mlotst_timeseries.nc\n",
      "Done/g/data/v45/amh157/tub-north-processed/tub-north-tx00-fc02-pert/mlotst_timeseries.nc\n",
      "Done/g/data/v45/amh157/tub-north-processed/tub-north-tx005-fc02/mlotst_timeseries.nc\n",
      "Done/g/data/v45/amh157/tub-north-processed/tub-north-tx01-fc02/mlotst_timeseries.nc\n",
      "Done/g/data/v45/amh157/tub-north-processed/tub-north-tx02-fc02/mlotst_timeseries.nc\n",
      "Done/g/data/v45/amh157/tub-north-processed/tub-north-GM/mlotst_timeseries.nc\n"
     ]
    }
   ],
   "source": [
    "# Timeseries of mean MLD north of 55N\n",
    "variable = 'mlotst'\n",
    "for ekey in exptdict.keys():\n",
    "    expt = exptdict[ekey]['expt']\n",
    "    darray = cc.querying.getvar(expt, variable, session, start_time='1000-01-01')\n",
    "    MLD = darray.resample(Time='A').mean('Time').mean('xh').sel(yh=slice(55,None)).mean('yh')\n",
    "    FileName = processed+expt+'/'+variable+'_timeseries.nc'\n",
    "    MLD.to_netcdf(FileName)\n",
    "    print('Done'+FileName)"
   ]
  },
  {
   "cell_type": "markdown",
   "metadata": {},
   "source": [
    "## Heat Flux\n"
   ]
  },
  {
   "cell_type": "code",
   "execution_count": 12,
   "metadata": {},
   "outputs": [
    {
     "name": "stdout",
     "output_type": "stream",
     "text": [
      "Done/g/data/v45/amh157/tub-north-processed/tub-north-tx01-fc00/heat_added_averaged.nc\n",
      "Done/g/data/v45/amh157/tub-north-processed/tub-north-tx01-fc005/heat_added_averaged.nc\n",
      "Done/g/data/v45/amh157/tub-north-processed/tub-north-tx01-fc01/heat_added_averaged.nc\n",
      "Done/g/data/v45/amh157/tub-north-processed/tub-north-tx01-fc03/heat_added_averaged.nc\n",
      "Done/g/data/v45/amh157/tub-north-processed/tub-north-tx00-fc02/heat_added_averaged.nc\n",
      "Done/g/data/v45/amh157/tub-north-processed/tub-north-tx00-fc02-pert/heat_added_averaged.nc\n",
      "Done/g/data/v45/amh157/tub-north-processed/tub-north-tx005-fc02/heat_added_averaged.nc\n",
      "Done/g/data/v45/amh157/tub-north-processed/tub-north-tx01-fc02/heat_added_averaged.nc\n",
      "Done/g/data/v45/amh157/tub-north-processed/tub-north-tx02-fc02/heat_added_averaged.nc\n",
      "Done/g/data/v45/amh157/tub-north-processed/tub-north-GM/heat_added_averaged.nc\n"
     ]
    }
   ],
   "source": [
    "variable = 'heat_added'\n",
    "for ekey in exptdict.keys():\n",
    "    expt = exptdict[ekey]['expt']\n",
    "    start_time = exptdict[ekey]['start_time']\n",
    "    darray = cc.querying.getvar(expt, variable, session, start_time=start_time)\n",
    "    HF = darray.mean('Time')\n",
    "    FileName = processed+expt+'/'+variable+'_averaged.nc'\n",
    "    HF.to_netcdf(FileName)\n",
    "    print('Done'+FileName)"
   ]
  },
  {
   "cell_type": "code",
   "execution_count": 5,
   "metadata": {},
   "outputs": [
    {
     "name": "stdout",
     "output_type": "stream",
     "text": [
      "Done/g/data/v45/amh157/tub-north-processed/tub-north-tx005-fc02/heat_added_north_timeseries.nc\n",
      "Done/g/data/v45/amh157/tub-north-processed/tub-north-tx005-fc02/heat_added_south_timeseries.nc\n"
     ]
    }
   ],
   "source": [
    "variable = 'heat_added'\n",
    "for ekey in exptdict.keys():\n",
    "    expt = exptdict[ekey]['expt']\n",
    "    darray = cc.querying.getvar(expt, variable, session, start_time='1000-01-01')\n",
    "    HFn = darray.resample(Time='A').mean('Time').mean('xh').sel(yh=slice(50,None)).mean('yh')\n",
    "    FileName = processed+expt+'/'+variable+'_north_timeseries.nc'\n",
    "    HFn.to_netcdf(FileName)\n",
    "    print('Done'+FileName)\n",
    "    HFs = darray.resample(Time='A').mean('Time').mean('xh').sel(yh=slice(10,30)).mean('yh')\n",
    "    FileName = processed+expt+'/'+variable+'_south_timeseries.nc'\n",
    "    HFs.to_netcdf(FileName)\n",
    "    print('Done'+FileName)"
   ]
  },
  {
   "cell_type": "markdown",
   "metadata": {},
   "source": [
    "## SSH"
   ]
  },
  {
   "cell_type": "code",
   "execution_count": 14,
   "metadata": {
    "scrolled": false
   },
   "outputs": [
    {
     "name": "stdout",
     "output_type": "stream",
     "text": [
      "Done/g/data/v45/amh157/tub-north-processed/tub-north-tx01-fc00/SSH_averaged.nc\n",
      "Done/g/data/v45/amh157/tub-north-processed/tub-north-tx01-fc005/SSH_averaged.nc\n",
      "Done/g/data/v45/amh157/tub-north-processed/tub-north-tx01-fc01/SSH_averaged.nc\n",
      "Done/g/data/v45/amh157/tub-north-processed/tub-north-tx01-fc03/SSH_averaged.nc\n",
      "Done/g/data/v45/amh157/tub-north-processed/tub-north-tx00-fc02/SSH_averaged.nc\n",
      "Done/g/data/v45/amh157/tub-north-processed/tub-north-tx00-fc02-pert/SSH_averaged.nc\n",
      "Done/g/data/v45/amh157/tub-north-processed/tub-north-tx005-fc02/SSH_averaged.nc\n",
      "Done/g/data/v45/amh157/tub-north-processed/tub-north-tx01-fc02/SSH_averaged.nc\n",
      "Done/g/data/v45/amh157/tub-north-processed/tub-north-tx02-fc02/SSH_averaged.nc\n",
      "Done/g/data/v45/amh157/tub-north-processed/tub-north-GM/SSH_averaged.nc\n"
     ]
    }
   ],
   "source": [
    "variable = 'SSH'\n",
    "for ekey in exptdict.keys():\n",
    "    expt = exptdict[ekey]['expt']\n",
    "    start_time = exptdict[ekey]['start_time']\n",
    "    darray = cc.querying.getvar(expt, variable, session,start_time=start_time)\n",
    "    SSH = darray.mean('Time')\n",
    "    FileName = processed+expt+'/'+variable+'_averaged.nc'\n",
    "    SSH.to_netcdf(FileName)\n",
    "    print('Done'+FileName)"
   ]
  },
  {
   "cell_type": "code",
   "execution_count": 19,
   "metadata": {},
   "outputs": [
    {
     "name": "stdout",
     "output_type": "stream",
     "text": [
      "Done/g/data/v45/amh157/tub-north-processed/tub-north-tx01-fc00/SSH_min_timeseries.nc\n",
      "Done/g/data/v45/amh157/tub-north-processed/tub-north-tx01-fc00/SSH_max_timeseries.nc\n",
      "Done/g/data/v45/amh157/tub-north-processed/tub-north-tx01-fc005/SSH_min_timeseries.nc\n",
      "Done/g/data/v45/amh157/tub-north-processed/tub-north-tx01-fc005/SSH_max_timeseries.nc\n",
      "Done/g/data/v45/amh157/tub-north-processed/tub-north-tx01-fc01/SSH_min_timeseries.nc\n",
      "Done/g/data/v45/amh157/tub-north-processed/tub-north-tx01-fc01/SSH_max_timeseries.nc\n",
      "Done/g/data/v45/amh157/tub-north-processed/tub-north-tx01-fc03/SSH_min_timeseries.nc\n",
      "Done/g/data/v45/amh157/tub-north-processed/tub-north-tx01-fc03/SSH_max_timeseries.nc\n",
      "Done/g/data/v45/amh157/tub-north-processed/tub-north-tx00-fc02/SSH_min_timeseries.nc\n",
      "Done/g/data/v45/amh157/tub-north-processed/tub-north-tx00-fc02/SSH_max_timeseries.nc\n",
      "Done/g/data/v45/amh157/tub-north-processed/tub-north-tx00-fc02-pert/SSH_min_timeseries.nc\n",
      "Done/g/data/v45/amh157/tub-north-processed/tub-north-tx00-fc02-pert/SSH_max_timeseries.nc\n",
      "Done/g/data/v45/amh157/tub-north-processed/tub-north-tx005-fc02/SSH_min_timeseries.nc\n",
      "Done/g/data/v45/amh157/tub-north-processed/tub-north-tx005-fc02/SSH_max_timeseries.nc\n",
      "Done/g/data/v45/amh157/tub-north-processed/tub-north-tx01-fc02/SSH_min_timeseries.nc\n",
      "Done/g/data/v45/amh157/tub-north-processed/tub-north-tx01-fc02/SSH_max_timeseries.nc\n",
      "Done/g/data/v45/amh157/tub-north-processed/tub-north-tx02-fc02/SSH_min_timeseries.nc\n",
      "Done/g/data/v45/amh157/tub-north-processed/tub-north-tx02-fc02/SSH_max_timeseries.nc\n",
      "Done/g/data/v45/amh157/tub-north-processed/tub-north-GM/SSH_min_timeseries.nc\n",
      "Done/g/data/v45/amh157/tub-north-processed/tub-north-GM/SSH_max_timeseries.nc\n"
     ]
    }
   ],
   "source": [
    "variable = 'SSH'\n",
    "for ekey in exptdict.keys():\n",
    "    expt = exptdict[ekey]['expt']\n",
    "    darray = cc.querying.getvar(expt, variable, session, start_time='1000-01-01')\n",
    "    SSHmin = darray.resample(Time='A').mean('Time').mean('xh').sel(yh=slice(50,None)).mean('yh')\n",
    "    FileName = processed+expt+'/'+variable+'_min_timeseries.nc'\n",
    "    SSHmin.to_netcdf(FileName)\n",
    "    print('Done'+FileName)\n",
    "    SSHmax = darray.resample(Time='A').mean('Time').mean('xh').sel(yh=slice(10,30)).mean('yh')\n",
    "    FileName = processed+expt+'/'+variable+'_max_timeseries.nc'\n",
    "    SSHmax.to_netcdf(FileName)\n",
    "    print('Done'+FileName)"
   ]
  },
  {
   "cell_type": "markdown",
   "metadata": {},
   "source": [
    "## Upper ocean streamfunction"
   ]
  },
  {
   "cell_type": "code",
   "execution_count": 8,
   "metadata": {},
   "outputs": [
    {
     "name": "stdout",
     "output_type": "stream",
     "text": [
      "Done/g/data/v45/amh157/tub-north-processed/tub-north-tx01-fc03/vh_rho_upper_averaged.nc\n"
     ]
    }
   ],
   "source": [
    "variable = 'vh_rho'\n",
    "for ekey in exptdict.keys():\n",
    "    expt = exptdict[ekey]['expt']\n",
    "    start_time = exptdict[ekey]['start_time']\n",
    "    darray = cc.querying.getvar(expt, variable, session, start_time=start_time)/1e6\n",
    "    psi = darray.mean('Time').sel(rho_l=slice(None,1034)).sum('rho_l').cumsum('xh')\n",
    "    FileName = processed+expt+'/'+variable+'_upper_averaged.nc'\n",
    "    psi.to_netcdf(FileName)\n",
    "    print('Done'+FileName)"
   ]
  },
  {
   "cell_type": "code",
   "execution_count": 5,
   "metadata": {},
   "outputs": [
    {
     "name": "stdout",
     "output_type": "stream",
     "text": [
      "Done/g/data/v45/amh157/tub-north-processed/tub-north-tx01-fc005/vh_rho_upper_timeseries.nc\n"
     ]
    }
   ],
   "source": [
    "tmpkeys = ['tx01-fc005']\n",
    "variable = 'vh_rho'\n",
    "for ekey in tmpkeys: #exptdict.keys():\n",
    "    expt = exptdict[ekey]['expt']\n",
    "    darray = cc.querying.getvar(expt, variable, session, start_time='1000-01-01')/1e6\n",
    "    psi = darray.resample(Time='A').mean('Time').sel(rho_l=slice(None,1034)).sum('rho_l').cumsum('xh').sel(xh=10,method='nearest').max(dim='yq')\n",
    "    FileName = processed+expt+'/'+variable+'_upper_timeseries.nc'\n",
    "    psi.to_netcdf(FileName)\n",
    "    print('Done'+FileName)"
   ]
  },
  {
   "cell_type": "markdown",
   "metadata": {},
   "source": [
    "## Lower ocean streamfunction"
   ]
  },
  {
   "cell_type": "code",
   "execution_count": 13,
   "metadata": {},
   "outputs": [
    {
     "name": "stdout",
     "output_type": "stream",
     "text": [
      "Done/g/data/v45/amh157/tub-north-processed/tub-north-tx01-fc00/vh_rho_lower_averaged.nc\n"
     ]
    }
   ],
   "source": [
    "tmpkeys = ['tx01-fc00']\n",
    "variable = 'vh_rho'\n",
    "for ekey in tmpkeys: #exptdict.keys():\n",
    "    expt = exptdict[ekey]['expt']\n",
    "    start_time = exptdict[ekey]['start_time']\n",
    "    darray = cc.querying.getvar(expt, variable, session, start_time=start_time)/1e6\n",
    "    psi = darray.mean('Time').sel(rho_l=slice(1034,None)).sum('rho_l').cumsum('xh')\n",
    "    FileName = processed+expt+'/'+variable+'_lower_averaged.nc'\n",
    "    psi.to_netcdf(FileName)\n",
    "    print('Done'+FileName)"
   ]
  },
  {
   "cell_type": "code",
   "execution_count": 7,
   "metadata": {},
   "outputs": [
    {
     "name": "stdout",
     "output_type": "stream",
     "text": [
      "Done/g/data/v45/amh157/tub-north-processed/tub-north-tx01-fc005/vh_rho_lower_timeseries.nc\n"
     ]
    }
   ],
   "source": [
    "tmpkeys = ['tx01-fc005']\n",
    "variable = 'vh_rho'\n",
    "for ekey in tmpkeys: #exptdict.keys():\n",
    "    expt = exptdict[ekey]['expt']\n",
    "    darray = cc.querying.getvar(expt, variable, session, start_time='1000-01-01')/1e6\n",
    "    psi = darray.resample(Time='A').mean('Time').sel(rho_l=slice(1034,None)).sum('rho_l').cumsum('xh').sel(xh=10,method='nearest').min(dim='yq')\n",
    "    FileName = processed+expt+'/'+variable+'_lower_timeseries.nc'\n",
    "    psi.to_netcdf(FileName)\n",
    "    print('Done'+FileName)"
   ]
  },
  {
   "cell_type": "markdown",
   "metadata": {},
   "source": [
    "## Overturning"
   ]
  },
  {
   "cell_type": "code",
   "execution_count": 15,
   "metadata": {},
   "outputs": [
    {
     "name": "stdout",
     "output_type": "stream",
     "text": [
      "Done/g/data/v45/amh157/tub-north-processed/tub-north-tx01-fc02/vh_rho_overturning_averaged.nc\n"
     ]
    }
   ],
   "source": [
    "tmpkeys = ['tx01-fc02']\n",
    "variable = 'vh_rho'\n",
    "for ekey in tmpkeys: #exptdict.keys():\n",
    "    expt = exptdict[ekey]['expt']\n",
    "    start_time = exptdict[ekey]['start_time']\n",
    "    darray = cc.querying.getvar(expt, variable, session, start_time=start_time)/1e6\n",
    "    psi = darray.mean('Time').sum('xh').cumsum('rho_l')\n",
    "    FileName = processed+expt+'/'+variable+'_overturning_averaged.nc'\n",
    "    psi.to_netcdf(FileName)\n",
    "    print('Done'+FileName)"
   ]
  },
  {
   "cell_type": "code",
   "execution_count": 6,
   "metadata": {},
   "outputs": [
    {
     "name": "stdout",
     "output_type": "stream",
     "text": [
      "Done/g/data/v45/amh157/tub-north-processed/tub-north-tx01-fc02/vh_rho_overturning_timeseries.nc\n",
      "Done/g/data/v45/amh157/tub-north-processed/tub-north-tx01-fc005/vh_rho_overturning_timeseries.nc\n"
     ]
    }
   ],
   "source": [
    "#tmpkeys = ['tx01-fc02']\n",
    "tmpkeys = ['tx01-fc02','tx01-fc005']\n",
    "variable = 'vh_rho'\n",
    "for ekey in tmpkeys: #exptdict.keys():\n",
    "    expt = exptdict[ekey]['expt']\n",
    "    darray = cc.querying.getvar(expt, variable, session, start_time='1000-01-01')/1e6\n",
    "    psi = darray.resample(Time='A').mean('Time').sel(yq=slice(20,30)).mean('yq').sum('xh').cumsum('rho_l').sel(rho_l=slice(1034,None)).max(dim='rho_l')\n",
    "    FileName = processed+expt+'/'+variable+'_overturning_timeseries.nc'\n",
    "    psi.to_netcdf(FileName)\n",
    "    print('Done'+FileName)"
   ]
  },
  {
   "cell_type": "markdown",
   "metadata": {},
   "source": [
    "## Barotropic streamfunction"
   ]
  },
  {
   "cell_type": "code",
   "execution_count": 7,
   "metadata": {},
   "outputs": [
    {
     "name": "stdout",
     "output_type": "stream",
     "text": [
      "Done/g/data/v45/amh157/tub-north-processed/tub-north-tx00-fc02-pert/vh_rho_barotropic_averaged.nc\n",
      "Done/g/data/v45/amh157/tub-north-processed/tub-north-tx01-fc02/vh_rho_barotropic_averaged.nc\n",
      "Done/g/data/v45/amh157/tub-north-processed/tub-north-tx01-fc005/vh_rho_barotropic_averaged.nc\n",
      "Done/g/data/v45/amh157/tub-north-processed/tub-north-tx01-fc00/vh_rho_barotropic_averaged.nc\n"
     ]
    }
   ],
   "source": [
    "tmpkeys = ['tx00-fc02-pert','tx01-fc02','tx01-fc005','tx01-fc00']\n",
    "variable = 'vh_rho'\n",
    "for ekey in tmpkeys: #exptdict.keys():\n",
    "    expt = exptdict[ekey]['expt']\n",
    "    start_time = exptdict[ekey]['start_time']\n",
    "    darray = cc.querying.getvar(expt, variable, session, start_time=start_time)/1e6\n",
    "    psi = darray.mean('Time').sum('rho_l').cumsum('xh')\n",
    "    FileName = processed+expt+'/'+variable+'_barotropic_averaged.nc'\n",
    "    psi.to_netcdf(FileName)\n",
    "    print('Done'+FileName)"
   ]
  },
  {
   "cell_type": "code",
   "execution_count": 18,
   "metadata": {},
   "outputs": [
    {
     "name": "stdout",
     "output_type": "stream",
     "text": [
      "Done/g/data/v45/amh157/tub-north-processed/tub-north-GM/vh_rho_barotropic_min_timeseries.nc\n",
      "Done/g/data/v45/amh157/tub-north-processed/tub-north-GM/vh_rho_barotropic_max_timeseries.nc\n"
     ]
    }
   ],
   "source": [
    "tmpkeys = ['GM']\n",
    "variable = 'vh_rho'\n",
    "for ekey in tmpkeys: #exptdict.keys():\n",
    "    expt = exptdict[ekey]['expt']\n",
    "    darray = cc.querying.getvar(expt, variable, session, start_time='1000-01-01')/1e6\n",
    "    psi = darray.resample(Time='A').mean('Time').sum('rho_l').sel(yq=slice(20,50)).cumsum('xh').sel(xh=10,method='nearest')\n",
    "    psimin = psi.min(dim='yq')\n",
    "    FileName = processed+expt+'/'+variable+'_barotropic_min_timeseries.nc'\n",
    "    psimin.to_netcdf(FileName)\n",
    "    print('Done'+FileName)\n",
    "    psimax = psi.max(dim='yq')\n",
    "    FileName = processed+expt+'/'+variable+'_barotropic_max_timeseries.nc'\n",
    "    psimax.to_netcdf(FileName)\n",
    "    print('Done'+FileName)"
   ]
  },
  {
   "cell_type": "markdown",
   "metadata": {},
   "source": [
    "## Stratification"
   ]
  },
  {
   "cell_type": "code",
   "execution_count": 16,
   "metadata": {},
   "outputs": [
    {
     "name": "stdout",
     "output_type": "stream",
     "text": [
      "Done/g/data/v45/amh157/tub-north-processed/tub-north-tx01-fc00/h_rho_1034_averaged.nc\n",
      "Done/g/data/v45/amh157/tub-north-processed/tub-north-tx01-fc005/h_rho_1034_averaged.nc\n",
      "Done/g/data/v45/amh157/tub-north-processed/tub-north-tx01-fc01/h_rho_1034_averaged.nc\n",
      "Done/g/data/v45/amh157/tub-north-processed/tub-north-tx01-fc03/h_rho_1034_averaged.nc\n",
      "Done/g/data/v45/amh157/tub-north-processed/tub-north-tx00-fc02/h_rho_1034_averaged.nc\n",
      "Done/g/data/v45/amh157/tub-north-processed/tub-north-tx00-fc02-pert/h_rho_1034_averaged.nc\n",
      "Done/g/data/v45/amh157/tub-north-processed/tub-north-tx005-fc02/h_rho_1034_averaged.nc\n",
      "Done/g/data/v45/amh157/tub-north-processed/tub-north-tx01-fc02/h_rho_1034_averaged.nc\n",
      "Done/g/data/v45/amh157/tub-north-processed/tub-north-tx02-fc02/h_rho_1034_averaged.nc\n",
      "Done/g/data/v45/amh157/tub-north-processed/tub-north-GM/h_rho_1034_averaged.nc\n"
     ]
    }
   ],
   "source": [
    "#tmpkeys = ['tx01-fc02','tx02-fc02','GM']\n",
    "variable = 'h_rho'\n",
    "for ekey in exptdict.keys():\n",
    "    expt = exptdict[ekey]['expt']\n",
    "    start_time = exptdict[ekey]['start_time']\n",
    "    darray = cc.querying.getvar(expt, variable, session, start_time=start_time)\n",
    "    h = darray.mean('Time').sel(rho_l=slice(None,1034)).sum('rho_l')\n",
    "    FileName = processed+expt+'/'+variable+'_1034_averaged.nc'\n",
    "    h.to_netcdf(FileName)\n",
    "    print('Done'+FileName)"
   ]
  },
  {
   "cell_type": "code",
   "execution_count": null,
   "metadata": {},
   "outputs": [],
   "source": []
  }
 ],
 "metadata": {
  "kernelspec": {
   "display_name": "Python 3",
   "language": "python",
   "name": "python3"
  },
  "language_info": {
   "codemirror_mode": {
    "name": "ipython",
    "version": 3
   },
   "file_extension": ".py",
   "mimetype": "text/x-python",
   "name": "python",
   "nbconvert_exporter": "python",
   "pygments_lexer": "ipython3",
   "version": "3.6.7"
  }
 },
 "nbformat": 4,
 "nbformat_minor": 2
}
